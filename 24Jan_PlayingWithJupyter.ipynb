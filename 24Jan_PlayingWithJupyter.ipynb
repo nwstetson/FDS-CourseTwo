{
 "cells": [
  {
   "cell_type": "code",
   "execution_count": 2,
   "id": "c1ffd305",
   "metadata": {},
   "outputs": [
    {
     "name": "stdout",
     "output_type": "stream",
     "text": [
      "What's your name?noah\n",
      "Hi!noah!\n"
     ]
    }
   ],
   "source": [
    "name = input(\"What's your name?\")\n",
    "print(\"Hi!\" + name + \"!\")"
   ]
  },
  {
   "cell_type": "markdown",
   "id": "c914c75f",
   "metadata": {},
   "source": [
    "# Here's a header\n",
    "Here's some text with a word in **bold**\n",
    "## Here's a sub-header\n",
    "*Here's some italic text*\n",
    "\n",
    "And here\n",
    "* is\n",
    "* a\n",
    "* bullet\n",
    "* list"
   ]
  },
  {
   "cell_type": "markdown",
   "id": "fd59f3fd",
   "metadata": {},
   "source": [
    "press escape key to enter **command mode** once you're in command mode, hit enter/return to go back to *edit mode*"
   ]
  },
  {
   "cell_type": "markdown",
   "id": "1e180e94",
   "metadata": {},
   "source": [
    "once you're in **command mode**, you can hit m to switch your `cell` to markdown"
   ]
  },
  {
   "cell_type": "markdown",
   "id": "4c42c7e6",
   "metadata": {},
   "source": [
    "here are some other cheat codes for **command mode**\n",
    "\n",
    "* **a** insert new cell above\n",
    "* **b** insert new cell below\n",
    "* **c** copy cell\n",
    "* **x** cut cell\n",
    "* **v** paste cell BELOW current cell\n",
    "* **V** paste cell ABOVE corrent cell\n",
    "* **dd** delete cell\n",
    "* **m** switch to markdown\n",
    "* **y** switch to code mode\n"
   ]
  },
  {
   "cell_type": "markdown",
   "id": "492057eb",
   "metadata": {},
   "source": [
    "## How to print your notebook\n",
    "\n",
    "**Saving as PDF file**\n",
    "* Print... (in browser)\n",
    "* Download as... (in browser)\n",
    "* `nbconvert...` (in terminal)\n",
    "\n",
    "**Printing from web browser**\n",
    "* command p\n",
    "* Set \"Destination\" to \"Save as PDF\"\n",
    "* Hit \"More settings\"\n",
    "* Deselect \"Options: Headers and Footers\" (you only have to do this once)\n",
    "* Hit \"save\"\n",
    "\n",
    "**nbconvert**\n",
    "* `conda install nbconvert` (terminal)\n",
    "* Install Pandoc (google it)\n",
    "* `which pandoc` (terminal)\n",
    "* Install LaTeX\n",
    "\n",
    "**Use Download as.. from a notebook**\n",
    "* File\n",
    "* Download as\n",
    "* PDF via LaTeX (.pdf)\n",
    "\n",
    "**Use nbconvert from terminal**\n",
    "* "
   ]
  }
 ],
 "metadata": {
  "kernelspec": {
   "display_name": "Python 3 (ipykernel)",
   "language": "python",
   "name": "python3"
  },
  "language_info": {
   "codemirror_mode": {
    "name": "ipython",
    "version": 3
   },
   "file_extension": ".py",
   "mimetype": "text/x-python",
   "name": "python",
   "nbconvert_exporter": "python",
   "pygments_lexer": "ipython3",
   "version": "3.9.7"
  }
 },
 "nbformat": 4,
 "nbformat_minor": 5
}
