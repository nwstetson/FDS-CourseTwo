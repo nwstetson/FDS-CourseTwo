{
 "cells": [
  {
   "cell_type": "markdown",
   "id": "1e738885-ca06-452d-8d0b-5e2721e22c7a",
   "metadata": {},
   "source": [
    "# Simulations Homework"
   ]
  },
  {
   "cell_type": "code",
   "execution_count": 1,
   "id": "f34a5b63-af93-4e46-98c1-2dce26f8ca4d",
   "metadata": {},
   "outputs": [
    {
     "name": "stderr",
     "output_type": "stream",
     "text": [
      "/opt/anaconda3/lib/python3.9/site-packages/scipy/__init__.py:146: UserWarning: A NumPy version >=1.16.5 and <1.23.0 is required for this version of SciPy (detected version 1.23.5\n",
      "  warnings.warn(f\"A NumPy version >={np_minversion} and <{np_maxversion}\"\n"
     ]
    }
   ],
   "source": [
    "import numpy as np\n",
    "import seaborn as sns\n",
    "%matplotlib inline"
   ]
  },
  {
   "cell_type": "markdown",
   "id": "3b23da61-41c3-4d6a-a744-ff9a626069c1",
   "metadata": {},
   "source": [
    "---"
   ]
  },
  {
   "cell_type": "markdown",
   "id": "d97e5217-ce6d-4587-ba83-ba02e31f8a13",
   "metadata": {},
   "source": [
    "### Reset Generator Function"
   ]
  },
  {
   "cell_type": "markdown",
   "id": "597841fb-db36-4bee-a549-53b1e1dc63cc",
   "metadata": {},
   "source": [
    "If you didn't do so in class, write a function to reseed the numpy random number generator. It should default to setting the seed to 42, but be able to set it to whatever you want."
   ]
  },
  {
   "cell_type": "code",
   "execution_count": 2,
   "id": "b7ac98fe-a4f2-4594-ad1a-f444b7514d7f",
   "metadata": {},
   "outputs": [],
   "source": [
    "def resetseed():\n",
    "    rng = np.random.default_rng(42)\n",
    "    return rng"
   ]
  },
  {
   "cell_type": "markdown",
   "id": "69cb00c5-c61d-4871-ba06-6a51c8ccf98d",
   "metadata": {},
   "source": [
    "Reset the generator using your function."
   ]
  },
  {
   "cell_type": "code",
   "execution_count": 3,
   "id": "a8041c65-1035-4e5e-9cea-bfcad437c4d1",
   "metadata": {},
   "outputs": [],
   "source": [
    "rng = resetseed()"
   ]
  },
  {
   "cell_type": "markdown",
   "id": "5a764d17-940a-47f6-8828-1cc680dc2af3",
   "metadata": {},
   "source": [
    "---"
   ]
  },
  {
   "cell_type": "markdown",
   "id": "5b3a92e1-43f0-4338-b3e0-637e7bb38123",
   "metadata": {},
   "source": [
    "### \"Accept Cookies\" Simulation"
   ]
  },
  {
   "cell_type": "markdown",
   "id": "8572a0ea-0590-4ec8-83fd-98b015e603cd",
   "metadata": {},
   "source": [
    "Assuming the base rate for hitting the \"Accept Cookies\" button when landing on a website is 85%, do a set of 10,000 simulations of 20 people visiting a given website and accepting cookies. "
   ]
  },
  {
   "cell_type": "code",
   "execution_count": 4,
   "id": "8f6760b8-3475-4cb7-999a-497ca14ac78b",
   "metadata": {},
   "outputs": [
    {
     "data": {
      "text/plain": [
       "array([16, 17, 15, ..., 19, 18, 17])"
      ]
     },
     "execution_count": 4,
     "metadata": {},
     "output_type": "execute_result"
    }
   ],
   "source": [
    "accept_cookies = rng.binomial(n = 20, p = .85, size = 10000)\n",
    "accept_cookies"
   ]
  },
  {
   "cell_type": "markdown",
   "id": "28f2cf31-7b22-4ee8-ba3f-c9b7ae70c14a",
   "metadata": {},
   "source": [
    "Based on your simulation, what is the probability of getting exactly 15 accepts? "
   ]
  },
  {
   "cell_type": "code",
   "execution_count": 5,
   "id": "e54d2b90-dc11-4a96-b7b0-3acc02671f53",
   "metadata": {},
   "outputs": [
    {
     "data": {
      "text/plain": [
       "0.1"
      ]
     },
     "execution_count": 5,
     "metadata": {},
     "output_type": "execute_result"
    }
   ],
   "source": [
    "sum(accept_cookies == 15)/10000"
   ]
  },
  {
   "cell_type": "markdown",
   "id": "8db36c23-6ebe-4eea-8dd6-1730b5b35273",
   "metadata": {},
   "source": [
    "What is the probability of getting *at least* 15 accepts?"
   ]
  },
  {
   "cell_type": "code",
   "execution_count": 6,
   "id": "55375983-9ec5-4bfe-b132-63369da6c8e2",
   "metadata": {},
   "outputs": [
    {
     "data": {
      "text/plain": [
       "0.9339"
      ]
     },
     "execution_count": 6,
     "metadata": {},
     "output_type": "execute_result"
    }
   ],
   "source": [
    "sum(accept_cookies >= 15)/10000"
   ]
  },
  {
   "cell_type": "markdown",
   "id": "f166851b-b73a-44a4-9617-f5af25c13755",
   "metadata": {},
   "source": [
    "What is the probability of getting fewer than 15 accepts?"
   ]
  },
  {
   "cell_type": "code",
   "execution_count": 7,
   "id": "1d68f209-89a0-467d-938c-14ccc50cae71",
   "metadata": {
    "tags": []
   },
   "outputs": [
    {
     "data": {
      "text/plain": [
       "0.0661"
      ]
     },
     "execution_count": 7,
     "metadata": {},
     "output_type": "execute_result"
    }
   ],
   "source": [
    "sum(accept_cookies < 15)/10000"
   ]
  },
  {
   "cell_type": "markdown",
   "id": "1cdb003d-5339-4bd9-a1ab-8de3e18ba06a",
   "metadata": {},
   "source": [
    "Confirm that the last two probabilities computed sum to 1.0."
   ]
  },
  {
   "cell_type": "code",
   "execution_count": 8,
   "id": "d3612c17-535b-4c81-92c4-f770c2d8a20e",
   "metadata": {},
   "outputs": [
    {
     "data": {
      "text/plain": [
       "1.0"
      ]
     },
     "execution_count": 8,
     "metadata": {},
     "output_type": "execute_result"
    }
   ],
   "source": [
    "0.9339 + 0.0661"
   ]
  },
  {
   "cell_type": "markdown",
   "id": "4df13455-708a-4d87-8f5a-208e6decc580",
   "metadata": {},
   "source": [
    "---"
   ]
  },
  {
   "cell_type": "markdown",
   "id": "c3403027-73a8-49e0-a56b-22b6f8bdcbda",
   "metadata": {},
   "source": [
    "### What Is and Isn't Binomial?"
   ]
  },
  {
   "cell_type": "markdown",
   "id": "fc87017c-ffbf-408f-ae02-21ed695307de",
   "metadata": {},
   "source": [
    "Check the binomial approximation for the election simulations from the in-class notebook for the cases in which we did and didn't account for the poll-to-poll variability arising from a single poll."
   ]
  },
  {
   "cell_type": "markdown",
   "id": "edd9efc5-ebdb-4265-b30a-fa0b1888a90b",
   "metadata": {},
   "source": [
    "What is the expected standard deviation for our distribution of election outcomes based on the normal approximation?"
   ]
  },
  {
   "cell_type": "code",
   "execution_count": 9,
   "id": "97620e0c-8b48-4f41-a531-65b4ba96180b",
   "metadata": {},
   "outputs": [
    {
     "data": {
      "text/plain": [
       "1.600254679730698"
      ]
     },
     "execution_count": 9,
     "metadata": {},
     "output_type": "execute_result"
    }
   ],
   "source": [
    "accept_cookies.std()"
   ]
  },
  {
   "cell_type": "markdown",
   "id": "39783e34-4418-4e5a-b7da-3439e13aac48",
   "metadata": {},
   "source": [
    "What was the empirical standard deviation of the distribution of election outcomes when we only used a single probability? (\"*single poll, many elections*\")\n",
    "\n",
    "(You can just copy and paste the code from the in-class notebook to regenerate the simulated election outcomes.)"
   ]
  },
  {
   "cell_type": "code",
   "execution_count": 10,
   "id": "71f95652-b207-4517-8e2f-e7ac0bd12d90",
   "metadata": {},
   "outputs": [],
   "source": [
    "n_elections = rng.binomial(100000, .51, 20000)"
   ]
  },
  {
   "cell_type": "code",
   "execution_count": 11,
   "id": "ee8985d6-c5f6-4dd4-802d-ab7de57971c5",
   "metadata": {},
   "outputs": [
    {
     "data": {
      "text/plain": [
       "158.09579697100583"
      ]
     },
     "execution_count": 11,
     "metadata": {},
     "output_type": "execute_result"
    }
   ],
   "source": [
    "n_elections.std()"
   ]
  },
  {
   "cell_type": "markdown",
   "id": "c3d5fa8e-2c95-401c-adfa-e3e584f41e03",
   "metadata": {},
   "source": [
    "What was the empirical standard deviation of the distribution of election outcomes when we accounted for random variation in poll outcomes in our simulation? (\"*simulate poll -> simulate election*\")"
   ]
  },
  {
   "cell_type": "code",
   "execution_count": 12,
   "id": "8174afa5-5d22-434c-bea5-696cb46c0e44",
   "metadata": {},
   "outputs": [],
   "source": [
    "sim = rng.binomial(n = 20000, p = 0.51, size = 100)"
   ]
  },
  {
   "cell_type": "code",
   "execution_count": 13,
   "id": "eca69a9b-1023-4b27-b87e-2991175a1c0f",
   "metadata": {},
   "outputs": [
    {
     "data": {
      "text/plain": [
       "61.83707949119201"
      ]
     },
     "execution_count": 13,
     "metadata": {},
     "output_type": "execute_result"
    }
   ],
   "source": [
    "sim.std()"
   ]
  },
  {
   "cell_type": "markdown",
   "id": "51ecbf00-1175-4fee-ae75-76441e3d28d7",
   "metadata": {},
   "source": [
    "---"
   ]
  },
  {
   "cell_type": "markdown",
   "id": "e230bf1e-821f-4343-a0f4-127c7c32d90b",
   "metadata": {},
   "source": [
    "### Effect of Poll Sample Size"
   ]
  },
  {
   "cell_type": "markdown",
   "id": "7ddf5ef1-1547-4116-ab9c-6dd37ff2e8f5",
   "metadata": {},
   "source": [
    "As you have probably realized, these distributions of outcomes from many experiments we've been generating are, by definition, ***sampling distributions***! One firm law about sampling distributions is that their width depends strongly on sample size. As such, we would expect our simulated election outcomes to be affected by the size of the poll on which they are based."
   ]
  },
  {
   "cell_type": "markdown",
   "id": "f188922e-6f5f-44cd-b380-e2e6d63598a8",
   "metadata": {},
   "source": [
    "In the cell below, run the *simulate poll -> simulate elections* code for poll sample sizes of 50, 100, 500, 1000, 2000 and 5000. For each sample size, record the obtained standard deviation of the distribution of outcomes. (pro tip: make a new code cell below and put them in a Python list)"
   ]
  },
  {
   "cell_type": "code",
   "execution_count": 14,
   "id": "d18e55ff-b729-4076-940b-b4080544aa47",
   "metadata": {},
   "outputs": [],
   "source": [
    " # reset generator\n",
    "rng = resetseed()"
   ]
  },
  {
   "cell_type": "code",
   "execution_count": 36,
   "id": "183345e1",
   "metadata": {},
   "outputs": [
    {
     "data": {
      "text/plain": [
       "[4.037207538633604,\n",
       " 7.050011715593102,\n",
       " 22.435342902661418,\n",
       " 31.530426899108104,\n",
       " 50.13198546773806]"
      ]
     },
     "execution_count": 36,
     "metadata": {},
     "output_type": "execute_result"
    }
   ],
   "source": [
    "rng = resetseed() #reset seed\n",
    "\n",
    "sample_size = [50, 100, 1000, 2000, 5000] #list of sample sizes\n",
    "\n",
    "results = []\n",
    "\n",
    "for i in sample_size: #data for simulation\n",
    "    n_sample = i\n",
    "    n_sim = 20000\n",
    "    n_prob = 0.51\n",
    "    \n",
    "    poll = rng.binomial(n_sample, n_prob, n_sim) #run the simulation\n",
    "    \n",
    "    rng = np.random.default_rng(42) #reset seed\n",
    "    prob = poll / n_sample #calculate probability\n",
    "   \n",
    "    voters = 100000\n",
    "    poll_2 = rng.binomial(n_sample, prob, n_sim)\n",
    "\n",
    "    results.append(poll_2.std()) #get standard deviation\n",
    "\n",
    "results"
   ]
  },
  {
   "cell_type": "code",
   "execution_count": 40,
   "id": "d8219bf3-54bf-4987-ad93-f1d0e522e891",
   "metadata": {},
   "outputs": [
    {
     "data": {
      "text/plain": [
       "50.13198546773806"
      ]
     },
     "execution_count": 40,
     "metadata": {},
     "output_type": "execute_result"
    },
    {
     "data": {
      "image/png": "[encoded data removed]",
      "text/plain": [
       "<Figure size 640x480 with 1 Axes>"
      ]
     },
     "metadata": {},
     "output_type": "display_data"
    }
   ],
   "source": [
    " # plot\n",
    "sns.histplot(results, bins = 10)\n",
    "\n",
    "# compute std\n",
    "poll_std = poll_2.std()\n",
    "poll_std"
   ]
  },
  {
   "cell_type": "markdown",
   "id": "e82dfe93-8f72-4d8d-a46d-191c01726957",
   "metadata": {},
   "source": [
    "Make a plot of standard deviation of outcomes (y-axis) vs. poll sample size (x-axis)."
   ]
  },
  {
   "cell_type": "code",
   "execution_count": 43,
   "id": "9a643a19-523b-4e52-8222-002efb96e5c9",
   "metadata": {},
   "outputs": [
    {
     "ename": "AttributeError",
     "evalue": "'list' object has no attribute 'std'",
     "output_type": "error",
     "traceback": [
      "\u001b[0;31m---------------------------------------------------------------------------\u001b[0m",
      "\u001b[0;31mAttributeError\u001b[0m                            Traceback (most recent call last)",
      "Cell \u001b[0;32mIn[43], line 1\u001b[0m\n\u001b[0;32m----> 1\u001b[0m sns\u001b[38;5;241m.\u001b[39mhistplot(\u001b[43mresults\u001b[49m\u001b[38;5;241;43m.\u001b[39;49m\u001b[43mstd\u001b[49m(), sample_size(), bins \u001b[38;5;241m=\u001b[39m \u001b[38;5;241m10\u001b[39m)\n",
      "\u001b[0;31mAttributeError\u001b[0m: 'list' object has no attribute 'std'"
     ]
    }
   ],
   "source": [
    "sns.histplot(results.std(), sample_size(), bins = 10)"
   ]
  },
  {
   "cell_type": "markdown",
   "id": "f2a59a35-6a2b-4277-9e5b-eb89e2f18fe7",
   "metadata": {},
   "source": [
    "Based on this plot, why do you think almost all polls sample around 2000 people?"
   ]
  },
  {
   "cell_type": "markdown",
   "id": "c9d363de-8270-4736-b9f9-628494ce5ccb",
   "metadata": {},
   "source": [
    "Because the sample sizes we gave range from 50-5000. When we take all of those possibilities with the number of simulations we're doing, most are going to be around 2000."
   ]
  },
  {
   "cell_type": "markdown",
   "id": "8227f5e6-c746-4ef8-b817-28cf4870a58e",
   "metadata": {},
   "source": [
    "---"
   ]
  },
  {
   "cell_type": "markdown",
   "id": "e0c9647c-d50d-43a8-93f4-dd332fadb3fb",
   "metadata": {},
   "source": [
    "### Re-Write the Multi-Poll Code "
   ]
  },
  {
   "cell_type": "markdown",
   "id": "836aece6-18f9-4210-82e0-b0c9b77eaea5",
   "metadata": {},
   "source": [
    "The code for combining three polls using a weighted average works, but it is awkward. Changing it to handle a different number of polls would involve lots of copying and pasting and mistake-prone editing.\n",
    "\n",
    "Make the code \"Pythonic\" so that all you have to do is provide a list (or tuple) of poll results and another for poll weights, and your code will do the rest. \n",
    "\n",
    "Your code can be just code in a code cell. But if you're feeling spicy, you could make it a function!"
   ]
  },
  {
   "cell_type": "code",
   "execution_count": 32,
   "id": "94d56328-e667-4389-989c-fc35688c7bda",
   "metadata": {},
   "outputs": [
    {
     "ename": "SyntaxError",
     "evalue": "invalid syntax (603859971.py, line 12)",
     "output_type": "error",
     "traceback": [
      "\u001b[0;36m  Cell \u001b[0;32mIn[32], line 12\u001b[0;36m\u001b[0m\n\u001b[0;31m    poll_results = np.binomial(n_voters, p(i), n_sim)\u001b[0m\n\u001b[0m    ^\u001b[0m\n\u001b[0;31mSyntaxError\u001b[0m\u001b[0;31m:\u001b[0m invalid syntax\n"
     ]
    }
   ],
   "source": [
    "# okay i started having a teensy bit of trouble here which messed up the rest of the cells,\n",
    "# but I know I'm super close and I did the best I could\n",
    "\n",
    "# sometimes in life you have to pick your battles\n",
    "\n",
    "def m_p_election(poll_w, poll_s): # data on the polls\n",
    "    rng = np.random.default_rng(42)\n",
    "    p = poll_w\n",
    "    s = poll_samp\n",
    "    sum_w = sum(w)\n",
    "    n_voters = 10000\n",
    "    n_sim = 20000\n",
    "    \n",
    "    results = []\n",
    "    prob_result = []\n",
    "    for i in range((len (p))\n",
    "        poll_results = np.binomial(n_voters, p(i), n_sim)\n",
    "        poll_results_x.append(poll_results)\n",
    "    \n",
    "    prob_result_x = []\n",
    "    for i in len(poll_results_x)\n",
    "        poll_prob = poll_result_x[j] / n_voters\n",
    "        prob_results_x.append(poll_prob)\n",
    "        \n",
    "    election_result = []\n",
    "        for j in len(prob_results_x):\n",
    "            rng - np.random.default_rng(42)\n",
    "            election = rng.binomial(n_voters.prob_results_x[j], n_sims)\n",
    "            election_poll.append(election)\n",
    "        \n",
    "        # actually calculate the weighted average           \n",
    "        weight_average = 0\n",
    "        for e in range (len(election_poll)):\n",
    "            weight_average += (election_poll[e]) * (p[e])\n",
    "        weight_average = weight_average / sum_w\n",
    "\n",
    "    return m_p_election"
   ]
  },
  {
   "cell_type": "markdown",
   "id": "9ec6a4ce-eb9c-46d0-bbaa-b62b7c431ce9",
   "metadata": {},
   "source": [
    "---"
   ]
  },
  {
   "cell_type": "markdown",
   "id": "89d80d36-5741-4534-89ca-e5c01480efb0",
   "metadata": {},
   "source": [
    "### Weight polls by sample size"
   ]
  },
  {
   "cell_type": "markdown",
   "id": "2edd7fa0-48ff-44bd-bdc5-1a0ca9e1b660",
   "metadata": {},
   "source": [
    "Use your new code to compute predicted election outcomes based on 5 polls weighted by the sample sizes of the polls (or their square root, if you prefer – wink wink, nudge nudge). The polls are as follows:\n",
    "\n",
    "`poll_ests = [.51, .55, .53, .49, 0.50]`\n",
    "\n",
    "`poll_samp_szs = [2000, 1000, 1500, 1200, 1142]`"
   ]
  },
  {
   "cell_type": "code",
   "execution_count": 33,
   "id": "19cad17b-ca5c-45c8-9e40-a4f68674abaf",
   "metadata": {},
   "outputs": [
    {
     "ename": "NameError",
     "evalue": "name 'm_p_election' is not defined",
     "output_type": "error",
     "traceback": [
      "\u001b[0;31m---------------------------------------------------------------------------\u001b[0m",
      "\u001b[0;31mNameError\u001b[0m                                 Traceback (most recent call last)",
      "Cell \u001b[0;32mIn[33], line 4\u001b[0m\n\u001b[1;32m      1\u001b[0m poll_ests \u001b[38;5;241m=\u001b[39m [\u001b[38;5;241m.51\u001b[39m, \u001b[38;5;241m.55\u001b[39m, \u001b[38;5;241m.53\u001b[39m, \u001b[38;5;241m.49\u001b[39m, \u001b[38;5;241m0.50\u001b[39m]\n\u001b[1;32m      2\u001b[0m poll_samp_szs \u001b[38;5;241m=\u001b[39m [\u001b[38;5;241m2000\u001b[39m, \u001b[38;5;241m1000\u001b[39m, \u001b[38;5;241m1500\u001b[39m, \u001b[38;5;241m1200\u001b[39m, \u001b[38;5;241m1142\u001b[39m]\n\u001b[0;32m----> 4\u001b[0m underdog \u001b[38;5;241m=\u001b[39m \u001b[43mm_p_election\u001b[49m(poll_ests, poll_samp_szs\u001b[38;5;241m.\u001b[39msqrt())\n",
      "\u001b[0;31mNameError\u001b[0m: name 'm_p_election' is not defined"
     ]
    }
   ],
   "source": [
    "poll_ests = [.51, .55, .53, .49, 0.50]\n",
    "poll_samp_szs = [2000, 1000, 1500, 1200, 1142]\n",
    "\n",
    "underdog = m_p_election(poll_ests, poll_samp_szs.sqrt())\n",
    "\n",
    "# so it's not working BUT if I got my function to work (and I did not I apologize), this would work"
   ]
  },
  {
   "cell_type": "markdown",
   "id": "2e70676f-b6ef-42c3-9b25-10243fc14de0",
   "metadata": {},
   "source": [
    "Make a plot of the distribution of simulated outcomes, with the area representing the underdog winning highlighted."
   ]
  },
  {
   "cell_type": "code",
   "execution_count": 34,
   "id": "45e95290-3af2-486d-bfac-00d3f577e477",
   "metadata": {},
   "outputs": [
    {
     "ename": "NameError",
     "evalue": "name 'underdog' is not defined",
     "output_type": "error",
     "traceback": [
      "\u001b[0;31m---------------------------------------------------------------------------\u001b[0m",
      "\u001b[0;31mNameError\u001b[0m                                 Traceback (most recent call last)",
      "Cell \u001b[0;32mIn[34], line 1\u001b[0m\n\u001b[0;32m----> 1\u001b[0m sns\u001b[38;5;241m.\u001b[39mhistplot(\u001b[43munderdog\u001b[49m, bins \u001b[38;5;241m=\u001b[39m \u001b[38;5;241m10\u001b[39m)\n",
      "\u001b[0;31mNameError\u001b[0m: name 'underdog' is not defined"
     ]
    }
   ],
   "source": [
    "sns.histplot(underdog, bins = 10)\n",
    "\n",
    "# similar situation here i am so sorry dr pestilli 😥\n",
    "# but please know that I am trying my best and am interested in data science\n",
    "# and am trying to learn stuff on my own as well"
   ]
  },
  {
   "cell_type": "markdown",
   "id": "9d5a64db-35c5-42a8-ab25-568ad6cf4318",
   "metadata": {},
   "source": [
    "---"
   ]
  },
  {
   "cell_type": "markdown",
   "id": "60c3f997-f252-4acd-a847-37e726660abf",
   "metadata": {},
   "source": [
    "---"
   ]
  }
 ],
 "metadata": {
  "kernelspec": {
   "display_name": "Python 3 (ipykernel)",
   "language": "python",
   "name": "python3"
  },
  "language_info": {
   "codemirror_mode": {
    "name": "ipython",
    "version": 3
   },
   "file_extension": ".py",
   "mimetype": "text/x-python",
   "name": "python",
   "nbconvert_exporter": "python",
   "pygments_lexer": "ipython3",
   "version": "3.9.16"
  }
 },
 "nbformat": 4,
 "nbformat_minor": 5
}
