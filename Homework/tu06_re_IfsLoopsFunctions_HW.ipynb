{
 "cells": [
  {
   "cell_type": "markdown",
   "id": "81d19d16",
   "metadata": {},
   "source": [
    "   # Ifs, loops, and function homework"
   ]
  },
  {
   "cell_type": "markdown",
   "id": "bd745db6",
   "metadata": {},
   "source": [
    "## 1. A function to reverse a string \n",
    "\n",
    "Write and test a function that reverses a string entered by a user. This function will have one input value (a string) and one output value (also a string).\n",
    "\n",
    "Test your function on, among other things, Napoleon's quote 'able was i ere i saw elba'"
   ]
  },
  {
   "cell_type": "code",
   "execution_count": 3,
   "id": "551a9bcb",
   "metadata": {
    "scrolled": true
   },
   "outputs": [
    {
     "name": "stdout",
     "output_type": "stream",
     "text": [
      "able was i ere i saw elba\n"
     ]
    }
   ],
   "source": [
    "alpha = 'able was i ere i saw elba' #recycling code is good for the environment\n",
    "separator = ''\n",
    "backwards_alpha = []\n",
    "\n",
    "for i in reversed(alpha) :\n",
    "    backwards_alpha.append(i)\n",
    "\n",
    "backwards_alpha = separator.join(backwards_alpha)\n",
    "\n",
    "print(backwards_alpha)"
   ]
  },
  {
   "cell_type": "markdown",
   "id": "9b439aac",
   "metadata": {},
   "source": [
    "I thought it didn't work at first because it's a palindrome!"
   ]
  },
  {
   "cell_type": "markdown",
   "id": "72bc6f2e",
   "metadata": {},
   "source": [
    "*Optional challenge*: run the above on \"race car\" and then fix the resulting string."
   ]
  },
  {
   "cell_type": "markdown",
   "id": "f351711e",
   "metadata": {},
   "source": [
    "## 2. Determine if a number is prime\n",
    "\n",
    "Write some code to test whether a number is prime or not, a prime number being an integer that is evenly divisible only by 1 and itself. \n",
    "\n",
    "Hint: another way to think about a prime number is that, if the smallest number (other than 1) that divides evenly into a number *is* that number, than the number is a prime.\n",
    "\n",
    "The easiest solution involves one `while` loop and one `if` test."
   ]
  },
  {
   "cell_type": "code",
   "execution_count": 57,
   "id": "4bef5c5c",
   "metadata": {
    "scrolled": true
   },
   "outputs": [
    {
     "name": "stdout",
     "output_type": "stream",
     "text": [
      "Pick a number to see if it's prime: 7\n",
      "7 is NOT prime! It can be divided by 8\n",
      "7 is NOT prime!\n"
     ]
    }
   ],
   "source": [
    "# tried to do it the nice way but it thinks 7 is divisible by 8 whoops\n",
    "\n",
    "n = int(input(\"Pick a number to see if it's prime: \")) # pick a number\n",
    "\n",
    "divisor = n+1 # we will start by dividing the number by itself plus 1\n",
    "\n",
    "while n > 1: #\n",
    "    n % divisor == 0; # 0 remainders means if can be divided evenly so is not prime\n",
    "    print(f\"{n} is NOT prime! It can be divided by {divisor}\");\n",
    "    divisor +1;\n",
    "    if n % divisor > 0: # if there's a remainder\n",
    "                print(f\"{n} is NOT prime!\")\n",
    "                break"
   ]
  },
  {
   "cell_type": "code",
   "execution_count": 70,
   "id": "cb3565b5",
   "metadata": {
    "scrolled": false
   },
   "outputs": [
    {
     "name": "stdout",
     "output_type": "stream",
     "text": [
      "Pick a number to see if it's prime: 7\n",
      "7 is a prime number!!! 🎉\n"
     ]
    }
   ],
   "source": [
    "# doesn't use a while loop, but this one works\n",
    "\n",
    "num = int(input(\"Pick a number to see if it\\'s prime: \"))\n",
    "if num > 1: # we're not doing any of that divide by 0 crap here, and obvi 1 is prime\n",
    "    for i in range(2, int(num/2)+1): # if the number isn't prime if divisible by anything other than itself and 1\n",
    "        if (num % i) == 0: # a remainder of 0 means it can be divided evenly\n",
    "            print(num, \"is NOT prime\")\n",
    "            break # don't test anything else if it's not prime\n",
    "    else:\n",
    "        print(num, \"is a prime number!!! 🎉\") # if it can't be divided by anything other then itself or 1, it's prime "
   ]
  },
  {
   "cell_type": "markdown",
   "id": "97515edc",
   "metadata": {},
   "source": [
    "## 3. Find the first 10 primes\n",
    "\n",
    "Extend your code above to find the first 10 prime numbers. This will involve wrapping your existing code in another \"outer\" loop.\n"
   ]
  },
  {
   "cell_type": "code",
   "execution_count": 93,
   "id": "3effd8b1",
   "metadata": {},
   "outputs": [
    {
     "name": "stdout",
     "output_type": "stream",
     "text": [
      "1 2 3 5 7 11 13 17 19 23 "
     ]
    }
   ],
   "source": [
    "# couldn't figure out how to do it with the code I used to check individual numbers, so I did it this way\n",
    "\n",
    "n = 0 # start at 0 primes\n",
    "number = 0 # start by testing 0\n",
    "value = 10 # generate 10 primes\n",
    "while n < value: # keep going until 10 primes are generated\n",
    "    number+=1 # test the next number\n",
    "    count=1 # this is 1 prime number\n",
    "    for j in range(2,number):\n",
    "        if number%j==0: # remainder of 0 means it can be divided evenly\n",
    "            count=0\n",
    "            break\n",
    "    if count==1:\n",
    "        print(number,end=' ')\n",
    "        n+=1"
   ]
  },
  {
   "cell_type": "markdown",
   "id": "13c2c9d2",
   "metadata": {},
   "source": [
    "## 4. Make a function to compute the first n primes\n",
    "\n",
    "Functionalize (is that a word?) your above code. A user should be able to call your code with one integer argument and get a list back containing that number of primes. Make sure your function handles inputs of an incorrect type gracefully. You should also warn the user if they enter a really big number (which could take a long time...), and give them the option of either bailing or entering a different number."
   ]
  },
  {
   "cell_type": "code",
   "execution_count": 56,
   "id": "2b2f95a0",
   "metadata": {},
   "outputs": [],
   "source": [
    "def primefinder5000(value):\n",
    "    n = 0 # start at 0 primes\n",
    "    number = 0 # start by testing 0\n",
    "    while n < value: # keep going until 10 primes are generated\n",
    "        number+=1 # test the next number\n",
    "        count=1 # this is 1 prime number\n",
    "        for j in range(2,number):\n",
    "            if number%j==0: # remainder of 0 means it can be divided evenly\n",
    "                count=0\n",
    "                break\n",
    "        if count==1:\n",
    "            print(number,end=' ')\n",
    "            n+=1"
   ]
  },
  {
   "cell_type": "code",
   "execution_count": 57,
   "id": "ce03e727",
   "metadata": {},
   "outputs": [
    {
     "name": "stdout",
     "output_type": "stream",
     "text": [
      "1 2 3 5 7 11 13 17 19 23 "
     ]
    }
   ],
   "source": [
    "primefinder5000(10) # this works, now need to add error message, provide warning for big number, and q for quit"
   ]
  },
  {
   "cell_type": "code",
   "execution_count": 201,
   "id": "8227fba2",
   "metadata": {},
   "outputs": [],
   "source": [
    "def primefinder5000(value):\n",
    "    try:\n",
    "        n = 0 # start at 0 primes\n",
    "        number = 0 # start by testing 0\n",
    "        if value > 100: # warning message for big number\n",
    "                value = input(\"haha woah there buddy, try a lower number [q to quit] \") # need to tell it to continue if value isn't q\n",
    "                if value == 'q':\n",
    "                    print(\"goodbye\")\n",
    "                    return\n",
    "        else :\n",
    "            while n < value: # keep going until 10 primes are generated\n",
    "                number+=1 # test the next number\n",
    "                count=1 # this is 1 prime number\n",
    "                for j in range(2,number):\n",
    "                    if number%j==0: # remainder of 0 means it can be divided evenly\n",
    "                        count=0\n",
    "                        break\n",
    "                if count==1:\n",
    "                    print(number,end=' ')\n",
    "                    n+=1\n",
    "    except TypeError as type_err:\n",
    "        print('hello it appears that you entered a value of the wrong type :(', type_err)"
   ]
  },
  {
   "cell_type": "code",
   "execution_count": 204,
   "id": "f2bb4d01",
   "metadata": {},
   "outputs": [
    {
     "name": "stdout",
     "output_type": "stream",
     "text": [
      "haha woah there buddy, try a lower number [q to quit] 7\n"
     ]
    }
   ],
   "source": [
    "primefinder5000(199)"
   ]
  },
  {
   "cell_type": "markdown",
   "id": "3594f8e9",
   "metadata": {},
   "source": [
    "the only thing that doesn't work is when I use a new number after putting in one that's too big\n",
    "But I spent over 3 hours working on it and sometimes you have to know when to stop"
   ]
  }
 ],
 "metadata": {
  "kernelspec": {
   "display_name": "Python 3 (ipykernel)",
   "language": "python",
   "name": "python3"
  },
  "language_info": {
   "codemirror_mode": {
    "name": "ipython",
    "version": 3
   },
   "file_extension": ".py",
   "mimetype": "text/x-python",
   "name": "python",
   "nbconvert_exporter": "python",
   "pygments_lexer": "ipython3",
   "version": "3.9.7"
  }
 },
 "nbformat": 4,
 "nbformat_minor": 5
}
