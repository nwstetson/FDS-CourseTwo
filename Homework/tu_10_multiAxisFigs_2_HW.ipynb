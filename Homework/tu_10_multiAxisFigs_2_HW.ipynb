{
 "cells": [
  {
   "cell_type": "markdown",
   "id": "0d4c9924",
   "metadata": {},
   "source": [
    "# Tutorial 10 homework"
   ]
  },
  {
   "cell_type": "markdown",
   "id": "ef8efe47",
   "metadata": {},
   "source": [
    "In this homework, you'll make a figure containing a scatter plot with marginal histograms similar to what we made earlier. Now, however, we have a few more tools at our disposal so we can probably make a better figure."
   ]
  },
  {
   "cell_type": "markdown",
   "id": "57b325f0",
   "metadata": {},
   "source": [
    "Here is some code to make a simulated data consisting of the scores on two tests (A and B) taken by 100 people."
   ]
  },
  {
   "cell_type": "code",
   "execution_count": 55,
   "id": "161f7f28",
   "metadata": {},
   "outputs": [],
   "source": [
    "import numpy as np\n",
    "\n",
    "my_rng = np.random.default_rng(seed = 42)\n",
    "test_a = my_rng.normal(100, 15, (100,1))\n",
    "test_b = test_a + my_rng.normal(0, 10, test_a.shape)"
   ]
  },
  {
   "cell_type": "markdown",
   "id": "0d734269",
   "metadata": {},
   "source": [
    "Let's make a figure featuring a scatter plot of the scores against one another, along with two supporting panels showing the histograms of the two test scores."
   ]
  },
  {
   "cell_type": "markdown",
   "id": "8fe69efb",
   "metadata": {},
   "source": [
    "An example figure would look something like this:\n",
    "\n",
    "![hw example figure](images/hw10example.png)\n",
    "\n",
    "But your goal isn't to make a figure that looks exactly like this; your goal is to make a figure that looks better than this!"
   ]
  },
  {
   "cell_type": "code",
   "execution_count": 14,
   "id": "31c7ff1e",
   "metadata": {},
   "outputs": [],
   "source": [
    "import matplotlib.pyplot as plt"
   ]
  },
  {
   "cell_type": "code",
   "execution_count": 56,
   "id": "bbeb6646",
   "metadata": {},
   "outputs": [],
   "source": [
    "x = np.random.default_rng(seed = 42)\n",
    "y1 = x\n",
    "y2 = my_rng.normal(100, 15, (100,1))\n",
    "y3 = test_a + my_rng.normal(0, 10, test_a.shape)"
   ]
  },
  {
   "cell_type": "code",
   "execution_count": 170,
   "id": "44446301",
   "metadata": {
    "scrolled": true
   },
   "outputs": [
    {
     "data": {
      "image/png": "[encoded data removed]",
      "text/plain": [
       "<Figure size 432x288 with 4 Axes>"
      ]
     },
     "metadata": {
      "needs_background": "light"
     },
     "output_type": "display_data"
    }
   ],
   "source": [
    "fig, axs = plt.subplots(ncols=2, nrows=2)\n",
    "\n",
    "gs_kw = dict(width_ratios=[1.4, 1], \n",
    "             height_ratios=[1, 2],\n",
    "             wspace=0.1, hspace=0.1) \n",
    " \n",
    "axs[0, 0].scatter(y2, y3, color = \"m\", alpha = 0.3);\n",
    "axs[0, 1].hist(y2, bins = 50, color = 'b', edgecolor = 'b', alpha = 0.5, orientation = 'horizontal');\n",
    "axs[1, 0].hist(y3, bins = 50, color = 'r', edgecolor = 'r', alpha = 0.5);\n",
    "axs[1,1].axis('off')\n",
    "\n",
    "fig.suptitle('Test A vs Test B');"
   ]
  },
  {
   "cell_type": "code",
   "execution_count": null,
   "id": "289d8181",
   "metadata": {},
   "outputs": [],
   "source": []
  },
  {
   "cell_type": "markdown",
   "id": "cf6b70bb",
   "metadata": {},
   "source": [
    "I couldn't figure out how to do the dictionary thingy to  :("
   ]
  }
 ],
 "metadata": {
  "kernelspec": {
   "display_name": "Python 3 (ipykernel)",
   "language": "python",
   "name": "python3"
  },
  "language_info": {
   "codemirror_mode": {
    "name": "ipython",
    "version": 3
   },
   "file_extension": ".py",
   "mimetype": "text/x-python",
   "name": "python",
   "nbconvert_exporter": "python",
   "pygments_lexer": "ipython3",
   "version": "3.9.7"
  }
 },
 "nbformat": 4,
 "nbformat_minor": 5
}
