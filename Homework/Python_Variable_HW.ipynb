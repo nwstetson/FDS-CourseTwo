{
 "cells": [
  {
   "cell_type": "markdown",
   "id": "a4755f03",
   "metadata": {},
   "source": [
    "# Variables homework"
   ]
  },
  {
   "cell_type": "markdown",
   "id": "a519fdac",
   "metadata": {},
   "source": [
    "Advice for homework and life: try, play, experiment; don't Google until you get frustrated.\n",
    "\n",
    "You can't break anything with Python, so, if you want to figure something out, try until you get it to work. You'll learn more and you'll remember it longer and more deeply. "
   ]
  },
  {
   "cell_type": "markdown",
   "id": "935435c3",
   "metadata": {},
   "source": [
    "---"
   ]
  },
  {
   "cell_type": "markdown",
   "id": "672eb676",
   "metadata": {},
   "source": [
    "In general, the homework question will consist of the question in a markdown cell, a code cell for you to play in, repeating as needed,  and a final markdown cell for your answer or explanation *that will be in italics*.\n",
    "\n",
    "But do feel free to add or delete cells as you feel appropriate. The important thing is you get your point across!"
   ]
  },
  {
   "cell_type": "markdown",
   "id": "fd5a0577",
   "metadata": {},
   "source": [
    "---"
   ]
  },
  {
   "cell_type": "markdown",
   "id": "8cac38b8",
   "metadata": {},
   "source": [
    "### 1."
   ]
  },
  {
   "cell_type": "markdown",
   "id": "41ebcb4a",
   "metadata": {},
   "source": [
    "Make an integer: `theAnswer = 42`.\n",
    "Now make another: `anotherNameForTheAnswer = 42`\n",
    "(You don't have to use these exactly, but make sure you have two different names referring to the same exact value.)"
   ]
  },
  {
   "cell_type": "code",
   "execution_count": 2,
   "id": "792d077c",
   "metadata": {},
   "outputs": [],
   "source": [
    "theAnswer = 42"
   ]
  },
  {
   "cell_type": "code",
   "execution_count": 3,
   "id": "5f883e86",
   "metadata": {},
   "outputs": [],
   "source": [
    "anotherNameForTheAnswer = 42"
   ]
  },
  {
   "cell_type": "markdown",
   "id": "110df7e7",
   "metadata": {},
   "source": [
    "Get and note the ID numbers for both."
   ]
  },
  {
   "cell_type": "code",
   "execution_count": 4,
   "id": "0bca1e61",
   "metadata": {},
   "outputs": [
    {
     "name": "stdout",
     "output_type": "stream",
     "text": [
      "140547476037200 140547476037200\n"
     ]
    }
   ],
   "source": [
    "print(id(theAnswer), id(anotherNameForTheAnswer))"
   ]
  },
  {
   "cell_type": "markdown",
   "id": "3b3616a6",
   "metadata": {},
   "source": [
    "Assign each name to a completely different number and confirm that each name now refers to an object with a new ID."
   ]
  },
  {
   "cell_type": "code",
   "execution_count": 2,
   "id": "19c87f48",
   "metadata": {},
   "outputs": [
    {
     "name": "stdout",
     "output_type": "stream",
     "text": [
      "140550226451056 140550226450992\n"
     ]
    }
   ],
   "source": [
    "theAnswer = 11\n",
    "anotherNameForTheAnswer = 9\n",
    "\n",
    "print(id(theAnswer), id(anotherNameForTheAnswer))"
   ]
  },
  {
   "cell_type": "markdown",
   "id": "a6d1c613",
   "metadata": {},
   "source": [
    "Do a `whos` to confirm that *no* names refer to the original value."
   ]
  },
  {
   "cell_type": "code",
   "execution_count": 3,
   "id": "26921f75",
   "metadata": {},
   "outputs": [
    {
     "name": "stdout",
     "output_type": "stream",
     "text": [
      "Variable                  Type    Data/Info\n",
      "-------------------------------------------\n",
      "anotherNameForTheAnswer   int     9\n",
      "theAnswer                 int     11\n"
     ]
    }
   ],
   "source": [
    "whos"
   ]
  },
  {
   "cell_type": "markdown",
   "id": "329c40f1",
   "metadata": {},
   "source": [
    "Finally, assign a new name to the original value, and get its ID."
   ]
  },
  {
   "cell_type": "code",
   "execution_count": 5,
   "id": "6d8e21a3",
   "metadata": {},
   "outputs": [
    {
     "data": {
      "text/plain": [
       "140550226452048"
      ]
     },
     "execution_count": 5,
     "metadata": {},
     "output_type": "execute_result"
    }
   ],
   "source": [
    "OriginalValue = 42\n",
    "id(OriginalValue)"
   ]
  },
  {
   "cell_type": "markdown",
   "id": "005730a3",
   "metadata": {},
   "source": [
    "*Look at this ID and compare it to the original ones. What happened? What does this tell you?*\n",
    "\n",
    "It made a completely new ID. It didn't use the ID for 42 originally."
   ]
  },
  {
   "cell_type": "markdown",
   "id": "022dd79c",
   "metadata": {},
   "source": [
    "---"
   ]
  },
  {
   "cell_type": "markdown",
   "id": "70b28d0b",
   "metadata": {},
   "source": [
    "### 2."
   ]
  },
  {
   "cell_type": "markdown",
   "id": "4016abc8",
   "metadata": {},
   "source": [
    "Convert both possible Boolean values to strings and print them."
   ]
  },
  {
   "cell_type": "code",
   "execution_count": 7,
   "id": "634b8733",
   "metadata": {},
   "outputs": [
    {
     "name": "stdout",
     "output_type": "stream",
     "text": [
      "1 0\n"
     ]
    }
   ],
   "source": [
    "option1 = 1\n",
    "option2 = 0\n",
    "\n",
    "option1 = '1'\n",
    "option2 = '0'\n",
    "\n",
    "print(option1, option2)"
   ]
  },
  {
   "cell_type": "markdown",
   "id": "fa273c8d",
   "metadata": {},
   "source": [
    "Now convert some strings to Boolean until you figure out \"the rule\"."
   ]
  },
  {
   "cell_type": "code",
   "execution_count": 32,
   "id": "4c637ec5",
   "metadata": {},
   "outputs": [
    {
     "name": "stdout",
     "output_type": "stream",
     "text": [
      "True True True False\n"
     ]
    }
   ],
   "source": [
    "option3 = \"False\"\n",
    "bool(option3)\n",
    "\n",
    "print(bool(option1), bool(option2), bool(option3), bool(\"\"))"
   ]
  },
  {
   "cell_type": "markdown",
   "id": "b2c5c4e8",
   "metadata": {},
   "source": [
    "*What string(s) convert to True and False? In other words, what is the rule for str -> bool conversion?*\n",
    "\n",
    "Only empty strings convert to False! Everything else converts to True, even 0 and the word \"False\""
   ]
  },
  {
   "cell_type": "markdown",
   "id": "9dc74072",
   "metadata": {},
   "source": [
    "---"
   ]
  },
  {
   "cell_type": "markdown",
   "id": "517c7fe1",
   "metadata": {},
   "source": [
    "### 3. "
   ]
  },
  {
   "cell_type": "markdown",
   "id": "f8fddb59",
   "metadata": {},
   "source": [
    "Make three variables:\n",
    "\n",
    "* a Boolean equal to True\n",
    "* an int (any int)\n",
    "* a float\n",
    "\n",
    "Try all combinations of adding two of the variables pairwise."
   ]
  },
  {
   "cell_type": "code",
   "execution_count": 42,
   "id": "86d384c9",
   "metadata": {
    "scrolled": true
   },
   "outputs": [],
   "source": [
    "BooleanEqualToTrue = True\n",
    "AnyInt = 4\n",
    "AFloat = 11.4"
   ]
  },
  {
   "cell_type": "code",
   "execution_count": 43,
   "id": "ba4932d3",
   "metadata": {},
   "outputs": [
    {
     "name": "stdout",
     "output_type": "stream",
     "text": [
      "5\n",
      "12.4\n",
      "15.4\n"
     ]
    }
   ],
   "source": [
    "print(BooleanEqualToTrue + AnyInt)\n",
    "print(BooleanEqualToTrue + AFloat)\n",
    "print(AnyInt + AFloat)"
   ]
  },
  {
   "cell_type": "markdown",
   "id": "db2ebd3c",
   "metadata": {},
   "source": [
    "*What is the rule for adding numbers of different types?*\n",
    "\n",
    "\"True\" converts to 1 (it makes it an integer). Everything else stays the number that it is (integer or float)"
   ]
  },
  {
   "cell_type": "markdown",
   "id": "1ea9b7ea",
   "metadata": {},
   "source": [
    "---"
   ]
  },
  {
   "cell_type": "markdown",
   "id": "e1b9ed6c",
   "metadata": {},
   "source": [
    "### 4."
   ]
  },
  {
   "cell_type": "markdown",
   "id": "cf84dd90",
   "metadata": {},
   "source": [
    "Make an int (any int) and a string containing a number (e.g. num_str = '64'). Try\n",
    "\n",
    "* adding them\n",
    "* adding them converting the number to a string\n",
    "* adding them converting the string to a number"
   ]
  },
  {
   "cell_type": "code",
   "execution_count": 49,
   "id": "18ed5b89",
   "metadata": {
    "scrolled": false
   },
   "outputs": [],
   "source": [
    "AnInt = 9\n",
    "AStr = \"12\""
   ]
  },
  {
   "cell_type": "code",
   "execution_count": 53,
   "id": "3178d063",
   "metadata": {},
   "outputs": [
    {
     "ename": "TypeError",
     "evalue": "unsupported operand type(s) for +: 'int' and 'str'",
     "output_type": "error",
     "traceback": [
      "\u001b[0;31m---------------------------------------------------------------------------\u001b[0m",
      "\u001b[0;31mTypeError\u001b[0m                                 Traceback (most recent call last)",
      "\u001b[0;32m/var/folders/bs/pn7ld5t53fxf8nmm_vmc3p9c0000gn/T/ipykernel_21913/1838214952.py\u001b[0m in \u001b[0;36m<module>\u001b[0;34m\u001b[0m\n\u001b[0;32m----> 1\u001b[0;31m \u001b[0mprint\u001b[0m\u001b[0;34m(\u001b[0m\u001b[0mAnInt\u001b[0m \u001b[0;34m+\u001b[0m \u001b[0mAStr\u001b[0m\u001b[0;34m)\u001b[0m \u001b[0;31m# doesn't work\u001b[0m\u001b[0;34m\u001b[0m\u001b[0;34m\u001b[0m\u001b[0m\n\u001b[0m",
      "\u001b[0;31mTypeError\u001b[0m: unsupported operand type(s) for +: 'int' and 'str'"
     ]
    }
   ],
   "source": [
    "print(AnInt + AStr) # doesn't work"
   ]
  },
  {
   "cell_type": "code",
   "execution_count": 54,
   "id": "21782787",
   "metadata": {},
   "outputs": [
    {
     "name": "stdout",
     "output_type": "stream",
     "text": [
      "912\n"
     ]
    }
   ],
   "source": [
    "print(str(AnInt) + AStr) # puts 12 right after 9!"
   ]
  },
  {
   "cell_type": "code",
   "execution_count": 55,
   "id": "99a60073",
   "metadata": {},
   "outputs": [
    {
     "name": "stdout",
     "output_type": "stream",
     "text": [
      "21\n"
     ]
    }
   ],
   "source": [
    "print(AnInt + int(AStr)) # adds them like normal"
   ]
  },
  {
   "cell_type": "markdown",
   "id": "5110c575",
   "metadata": {},
   "source": [
    "Try converting a `str` that is a spelled out number (like 'forty two') to an int."
   ]
  },
  {
   "cell_type": "code",
   "execution_count": 59,
   "id": "3f8e8f20",
   "metadata": {},
   "outputs": [
    {
     "ename": "ValueError",
     "evalue": "invalid literal for int() with base 10: 'eleven'",
     "output_type": "error",
     "traceback": [
      "\u001b[0;31m---------------------------------------------------------------------------\u001b[0m",
      "\u001b[0;31mValueError\u001b[0m                                Traceback (most recent call last)",
      "\u001b[0;32m/var/folders/bs/pn7ld5t53fxf8nmm_vmc3p9c0000gn/T/ipykernel_21913/3138335197.py\u001b[0m in \u001b[0;36m<module>\u001b[0;34m\u001b[0m\n\u001b[1;32m      1\u001b[0m \u001b[0mtheNumber\u001b[0m \u001b[0;34m=\u001b[0m \u001b[0;34m\"eleven\"\u001b[0m\u001b[0;34m\u001b[0m\u001b[0;34m\u001b[0m\u001b[0m\n\u001b[1;32m      2\u001b[0m \u001b[0;34m\u001b[0m\u001b[0m\n\u001b[0;32m----> 3\u001b[0;31m \u001b[0mprint\u001b[0m\u001b[0;34m(\u001b[0m\u001b[0mint\u001b[0m\u001b[0;34m(\u001b[0m\u001b[0mtheNumber\u001b[0m\u001b[0;34m)\u001b[0m\u001b[0;34m)\u001b[0m\u001b[0;34m\u001b[0m\u001b[0;34m\u001b[0m\u001b[0m\n\u001b[0m",
      "\u001b[0;31mValueError\u001b[0m: invalid literal for int() with base 10: 'eleven'"
     ]
    }
   ],
   "source": [
    "theNumber = \"eleven\"\n",
    "\n",
    "print(int(theNumber))"
   ]
  },
  {
   "cell_type": "markdown",
   "id": "fd5707eb",
   "metadata": {},
   "source": [
    "*Did that work?*\n",
    "\n",
    "No :/"
   ]
  },
  {
   "cell_type": "markdown",
   "id": "1dae4adc",
   "metadata": {},
   "source": [
    "---"
   ]
  },
  {
   "cell_type": "markdown",
   "id": "9d9f04c2",
   "metadata": {},
   "source": [
    "### 5. "
   ]
  },
  {
   "cell_type": "markdown",
   "id": "41cab9d3",
   "metadata": {},
   "source": [
    "Make a variable that is a 5 element tuple."
   ]
  },
  {
   "cell_type": "code",
   "execution_count": 65,
   "id": "b7d56346",
   "metadata": {},
   "outputs": [],
   "source": [
    "Birds = (\"🦆\", \"🦉\", \"🦅\", \"🐦\", \"🐣\")"
   ]
  },
  {
   "cell_type": "markdown",
   "id": "e8c66a73",
   "metadata": {},
   "source": [
    "Extract the last 3 elements."
   ]
  },
  {
   "cell_type": "code",
   "execution_count": 66,
   "id": "2e49c601",
   "metadata": {},
   "outputs": [
    {
     "data": {
      "text/plain": [
       "('🦅', '🐦', '🐣')"
      ]
     },
     "execution_count": 66,
     "metadata": {},
     "output_type": "execute_result"
    }
   ],
   "source": [
    "Birds[2:5]"
   ]
  },
  {
   "cell_type": "markdown",
   "id": "47e21ef5",
   "metadata": {},
   "source": [
    "---"
   ]
  },
  {
   "cell_type": "markdown",
   "id": "158ffef3",
   "metadata": {},
   "source": [
    "### 6. "
   ]
  },
  {
   "cell_type": "markdown",
   "id": "448bfa55",
   "metadata": {},
   "source": [
    "Make two variables containing tuples (you can create one and re-use the one from #5). Add them using \"+\"."
   ]
  },
  {
   "cell_type": "code",
   "execution_count": 67,
   "id": "5d681205",
   "metadata": {},
   "outputs": [],
   "source": [
    "Primates = (\"🐒\", \"🦧\", \"🦍\", \"🧍\")"
   ]
  },
  {
   "cell_type": "code",
   "execution_count": 68,
   "id": "eaf0823b",
   "metadata": {},
   "outputs": [
    {
     "data": {
      "text/plain": [
       "('🦆', '🦉', '🦅', '🐦', '🐣', '🐒', '🦧', '🦍', '🧍')"
      ]
     },
     "execution_count": 68,
     "metadata": {},
     "output_type": "execute_result"
    }
   ],
   "source": [
    "Birds + Primates"
   ]
  },
  {
   "cell_type": "markdown",
   "id": "119c9a85",
   "metadata": {},
   "source": [
    "Make two list variables and add them."
   ]
  },
  {
   "cell_type": "code",
   "execution_count": 71,
   "id": "0b72465e",
   "metadata": {},
   "outputs": [
    {
     "data": {
      "text/plain": [
       "['🦑', 338, '💦', 0.10101, 'Squid', 3.38, 'Water', '1.01010']"
      ]
     },
     "execution_count": 71,
     "metadata": {},
     "output_type": "execute_result"
    }
   ],
   "source": [
    "Squist = [\"🦑\", 338, \"💦\", 0.10101]\n",
    "Luid = [\"Squid\", 3.38, \"Water\", \"1.01010\"]\n",
    "\n",
    "Squist + Luid"
   ]
  },
  {
   "cell_type": "markdown",
   "id": "23ed3aa7",
   "metadata": {},
   "source": [
    "Try adding one of your tuples to one of your lists."
   ]
  },
  {
   "cell_type": "code",
   "execution_count": 72,
   "id": "187ba06d",
   "metadata": {
    "scrolled": false
   },
   "outputs": [
    {
     "ename": "TypeError",
     "evalue": "can only concatenate list (not \"tuple\") to list",
     "output_type": "error",
     "traceback": [
      "\u001b[0;31m---------------------------------------------------------------------------\u001b[0m",
      "\u001b[0;31mTypeError\u001b[0m                                 Traceback (most recent call last)",
      "\u001b[0;32m/var/folders/bs/pn7ld5t53fxf8nmm_vmc3p9c0000gn/T/ipykernel_21913/1647082232.py\u001b[0m in \u001b[0;36m<module>\u001b[0;34m\u001b[0m\n\u001b[0;32m----> 1\u001b[0;31m \u001b[0mSquist\u001b[0m \u001b[0;34m+\u001b[0m \u001b[0mBirds\u001b[0m\u001b[0;34m\u001b[0m\u001b[0;34m\u001b[0m\u001b[0m\n\u001b[0m",
      "\u001b[0;31mTypeError\u001b[0m: can only concatenate list (not \"tuple\") to list"
     ]
    }
   ],
   "source": [
    "Squist + Birds"
   ]
  },
  {
   "cell_type": "markdown",
   "id": "c22fff9f",
   "metadata": {},
   "source": [
    "*What happened? How does this compare to adding, say, a bool to a float?*\n",
    "\n",
    "It doesn't work! When you add a bool to a float, it converts the bool to an integer and it works, but python can't add a tuple to a list"
   ]
  },
  {
   "cell_type": "markdown",
   "id": "24ceb313",
   "metadata": {},
   "source": [
    "---"
   ]
  },
  {
   "cell_type": "markdown",
   "id": "46be9eeb",
   "metadata": {},
   "source": [
    "### 7."
   ]
  },
  {
   "cell_type": "markdown",
   "id": "ed51a160",
   "metadata": {},
   "source": [
    "Can you tell the type of a variable by looking at its value?"
   ]
  },
  {
   "cell_type": "markdown",
   "id": "7b9d839a",
   "metadata": {},
   "source": [
    "*If so, how? A couple examples are fine; no need for an exhaustive list.*\n",
    "\n",
    "Yes!\n",
    "\n",
    "False or True = bool\n",
    "\n",
    "a whole number (like 0, 1, 3) = int\n",
    "\n",
    "\"In parentheses\" (like \"0\", \"False\", 4.5\") = str\n",
    "\n",
    "with a decimal (like 9.0 or 0.002) = float"
   ]
  },
  {
   "cell_type": "markdown",
   "id": "d9d4751a",
   "metadata": {},
   "source": [
    "---"
   ]
  },
  {
   "cell_type": "markdown",
   "id": "0e6d00d0",
   "metadata": {},
   "source": [
    "### 8."
   ]
  },
  {
   "cell_type": "markdown",
   "id": "fef795f0",
   "metadata": {},
   "source": [
    "Make a list variable in which one of the elements is itself a list (e.g. `myList = ['hi', [3, 5, 7, 11], False]`)."
   ]
  },
  {
   "cell_type": "code",
   "execution_count": 77,
   "id": "397862a5",
   "metadata": {},
   "outputs": [],
   "source": [
    "Okay = ['raccoon', [5, 6, 3, 2, 4], True]"
   ]
  },
  {
   "cell_type": "markdown",
   "id": "6c9f9c01",
   "metadata": {},
   "source": [
    "Extract one element of the nested list - the list-within a list. Try it in two steps, by first extracting the nested list and assigning it to a new variable."
   ]
  },
  {
   "cell_type": "code",
   "execution_count": 81,
   "id": "fb0d3c73",
   "metadata": {},
   "outputs": [
    {
     "data": {
      "text/plain": [
       "[5, 6, 3, 2, 4]"
      ]
     },
     "execution_count": 81,
     "metadata": {},
     "output_type": "execute_result"
    }
   ],
   "source": [
    "Okay[1]"
   ]
  },
  {
   "cell_type": "code",
   "execution_count": 85,
   "id": "150c6092",
   "metadata": {},
   "outputs": [
    {
     "data": {
      "text/plain": [
       "3"
      ]
     },
     "execution_count": 85,
     "metadata": {},
     "output_type": "execute_result"
    }
   ],
   "source": [
    "OkayList = Okay[1]\n",
    "\n",
    "OkayList[2]"
   ]
  },
  {
   "cell_type": "markdown",
   "id": "2af6ccf6",
   "metadata": {},
   "source": [
    "Now see if you can do this in one step."
   ]
  },
  {
   "cell_type": "code",
   "execution_count": 91,
   "id": "9c7617ec",
   "metadata": {},
   "outputs": [
    {
     "data": {
      "text/plain": [
       "3"
      ]
     },
     "execution_count": 91,
     "metadata": {},
     "output_type": "execute_result"
    }
   ],
   "source": [
    "Okay[1][2]"
   ]
  },
  {
   "cell_type": "markdown",
   "id": "0554f1ab",
   "metadata": {},
   "source": [
    "---"
   ]
  },
  {
   "cell_type": "markdown",
   "id": "bc4dfb16",
   "metadata": {},
   "source": [
    "### 9."
   ]
  },
  {
   "cell_type": "markdown",
   "id": "942c18ed",
   "metadata": {},
   "source": [
    "Make a `dict` variable with two elements, one of which is a list."
   ]
  },
  {
   "cell_type": "code",
   "execution_count": 130,
   "id": "eab04be2",
   "metadata": {},
   "outputs": [],
   "source": [
    "DogDict = {'they look like this': \"🐕\",\n",
    "           'some breeds': [\"dalmation\", \"collie\", \"spitz\"]}"
   ]
  },
  {
   "cell_type": "markdown",
   "id": "33671a6f",
   "metadata": {},
   "source": [
    "Extract a single element from the list-in-a-dict in one step."
   ]
  },
  {
   "cell_type": "code",
   "execution_count": 132,
   "id": "45eeb829",
   "metadata": {},
   "outputs": [
    {
     "data": {
      "text/plain": [
       "'collie'"
      ]
     },
     "execution_count": 132,
     "metadata": {},
     "output_type": "execute_result"
    }
   ],
   "source": [
    "DogDict['some breeds'][1]"
   ]
  },
  {
   "cell_type": "markdown",
   "id": "ad326e31",
   "metadata": {},
   "source": [
    "---"
   ]
  },
  {
   "cell_type": "markdown",
   "id": "3ee688b1",
   "metadata": {},
   "source": [
    "10."
   ]
  },
  {
   "cell_type": "markdown",
   "id": "d75d6e10",
   "metadata": {},
   "source": [
    "Make a list variable. Consider that each element of the list is logically an *object* in and of itself. Confirm that one or two of these list elements has its own unique ID number."
   ]
  },
  {
   "cell_type": "code",
   "execution_count": 114,
   "id": "57e89abe",
   "metadata": {},
   "outputs": [
    {
     "name": "stdout",
     "output_type": "stream",
     "text": [
      "140550226450736 140550226450896\n"
     ]
    }
   ],
   "source": [
    "AListIsAnObject = [1,2,3,4,5,6]\n",
    "\n",
    "print(id(AListIsAnObject[0]), id(AListIsAnObject[5]))"
   ]
  },
  {
   "cell_type": "markdown",
   "id": "a6dd53d9",
   "metadata": {},
   "source": [
    "If you extract an element from your list and assign it to a new variable, are the IDs the same, or is a new object created?"
   ]
  },
  {
   "cell_type": "code",
   "execution_count": 122,
   "id": "fd09ce87",
   "metadata": {},
   "outputs": [
    {
     "name": "stdout",
     "output_type": "stream",
     "text": [
      "140550226450800 140550226450800\n"
     ]
    }
   ],
   "source": [
    "NewVariable = AListIsAnObject[2]\n",
    "\n",
    "print(id(NewVariable), id(AListIsAnObject[2]))"
   ]
  },
  {
   "cell_type": "markdown",
   "id": "c30af4e6",
   "metadata": {},
   "source": [
    "*Are the IDs the same, or is a new object created when you assigned the list element to new variable?*\n",
    "\n",
    "The IDs are the same because the different names are assigned to the same element"
   ]
  },
  {
   "cell_type": "markdown",
   "id": "4a3df1f0",
   "metadata": {},
   "source": [
    "---"
   ]
  },
  {
   "cell_type": "markdown",
   "id": "954d5cb8",
   "metadata": {},
   "source": [
    "### 11."
   ]
  },
  {
   "cell_type": "markdown",
   "id": "d5aaa23b",
   "metadata": {},
   "source": [
    "Make a `str` variable containing the first 5 letters of the alphabet (e.g. `a2e = 'abcde'`). Check the ID of the second (index = 1) element (the 'b')."
   ]
  },
  {
   "cell_type": "code",
   "execution_count": 110,
   "id": "eb1770d5",
   "metadata": {},
   "outputs": [
    {
     "data": {
      "text/plain": [
       "140550246396784"
      ]
     },
     "execution_count": 110,
     "metadata": {},
     "output_type": "execute_result"
    }
   ],
   "source": [
    "str1ng = 'abcde'\n",
    "\n",
    "id(str1ng[1])"
   ]
  },
  {
   "cell_type": "markdown",
   "id": "fba510ba",
   "metadata": {},
   "source": [
    "Now make a `str` variable containing the letter 'b'. Check its ID."
   ]
  },
  {
   "cell_type": "code",
   "execution_count": 108,
   "id": "7bd7560d",
   "metadata": {},
   "outputs": [],
   "source": [
    "itHasD = 'b'"
   ]
  },
  {
   "cell_type": "code",
   "execution_count": 109,
   "id": "e30ea92f",
   "metadata": {},
   "outputs": [
    {
     "data": {
      "text/plain": [
       "140550246396784"
      ]
     },
     "execution_count": 109,
     "metadata": {},
     "output_type": "execute_result"
    }
   ],
   "source": [
    "id(itHasD)"
   ]
  },
  {
   "cell_type": "markdown",
   "id": "8484a41a",
   "metadata": {},
   "source": [
    "*What happened?*\n",
    "\n",
    "They have the same ID because they are assigned to the same variable (\"b\")"
   ]
  }
 ],
 "metadata": {
  "kernelspec": {
   "display_name": "Python 3 (ipykernel)",
   "language": "python",
   "name": "python3"
  },
  "language_info": {
   "codemirror_mode": {
    "name": "ipython",
    "version": 3
   },
   "file_extension": ".py",
   "mimetype": "text/x-python",
   "name": "python",
   "nbconvert_exporter": "python",
   "pygments_lexer": "ipython3",
   "version": "3.9.7"
  }
 },
 "nbformat": 4,
 "nbformat_minor": 5
}
