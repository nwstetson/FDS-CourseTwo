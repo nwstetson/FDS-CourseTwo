{
 "cells": [
  {
   "cell_type": "markdown",
   "id": "f816835d",
   "metadata": {},
   "source": [
    "## Instructions\n",
    "In your final project – time to shine! – you'll use machine learning to predict whether a tumor is benign or malignant. \n",
    "\n",
    "NOTE: These data are not the same as the data we used before - those were a toy version and these are the real deal.\n",
    "\n",
    "The data have a bunch of potential predictor variables and one target variable. The file \"FP_breast_cancer_data.csv\" is the raw data, with one target variable column coded as 0 or 1. This is best for machine learning.\n",
    "\n",
    "The file \"FP_breast_cancer_data_catcol.csv\" has an additional column I added that codes the target variable as \"benign\" or \"malignant\". This is easier to use when playing around with, for example, seaborn's pairplot() function.\n",
    "\n",
    "Your goal is to compare 2 machine learning algorithms for classifying tumor type. You can use two of the 3 we covered in class, or try one we haven't covered (such as k-means).\n",
    "\n",
    "For each algorithm, try both using 2 variables you identify yourself as potentially useful as well as the \"best\" two variables (principal components) identified by PCA. In other words, you'll end up with 4 sets of results as per the table below.\n",
    "\n",
    "\n",
    "\n",
    "Algorithm 1|Algorithm 2\n",
    "|-|-|\n",
    "2 good variables by eye\t| 2 good variables by eye\n",
    "Best two variables via PCA | Best two variables via PCA\n",
    "\n",
    "The final project should be in the form of a brief report to your (busy) boss recommending which way we should go for an automated screening algorithm."
   ]
  },
  {
   "cell_type": "code",
   "execution_count": 131,
   "id": "8d1413ea",
   "metadata": {},
   "outputs": [],
   "source": [
    "# Load library\n",
    "import pandas as pd\n",
    "from sklearn.metrics import accuracy_score\n",
    "from sklearn.svm import SVC\n",
    "from sklearn.metrics import classification_report, accuracy_score\n",
    "from sklearn.metrics import confusion_matrix\n",
    "from sklearn.model_selection import train_test_split\n",
    "from sklearn.decomposition import PCA\n",
    "from sklearn.naive_bayes import GaussianNB\n",
    "\n",
    "import numpy as np\n",
    "import matplotlib.pyplot as plt\n",
    "import seaborn as sns"
   ]
  },
  {
   "cell_type": "code",
   "execution_count": 132,
   "id": "1dafc250",
   "metadata": {},
   "outputs": [],
   "source": [
    "# Get data\n",
    "raw = pd.read_csv('./data/FP_breast_cancer_data.csv')\n",
    "df = pd.read_csv('./data/FP_breast_cancer_data_catcol.csv')"
   ]
  },
  {
   "cell_type": "code",
   "execution_count": 133,
   "id": "4a2cac14",
   "metadata": {},
   "outputs": [],
   "source": [
    "# Split data into training and testing segments\n",
    "X = df.iloc[:, 0:-2] # predictor matrix (everything but the tumor type)\n",
    "y = df.target   # target vector\n",
    "X_train, X_test, y_train, y_test = train_test_split(X, y, test_size=0.2, random_state=42)"
   ]
  },
  {
   "cell_type": "markdown",
   "id": "bc798e54",
   "metadata": {},
   "source": [
    "## Algorithm 1 (K-Nearest Neighbors classifier with k=3)"
   ]
  },
  {
   "cell_type": "code",
   "execution_count": 134,
   "id": "ea178887",
   "metadata": {
    "scrolled": false
   },
   "outputs": [
    {
     "name": "stdout",
     "output_type": "stream",
     "text": [
      "Accuracy Score: 0.93%\n",
      "              precision    recall  f1-score   support\n",
      "\n",
      "           0       0.93      0.88      0.90        43\n",
      "           1       0.93      0.96      0.94        71\n",
      "\n",
      "    accuracy                           0.93       114\n",
      "   macro avg       0.93      0.92      0.92       114\n",
      "weighted avg       0.93      0.93      0.93       114\n",
      "\n"
     ]
    }
   ],
   "source": [
    "# Make algorithm\n",
    "from sklearn.neighbors import KNeighborsClassifier\n",
    "k = 3\n",
    "knn = KNeighborsClassifier(n_neighbors=k)\n",
    "\n",
    "# Fit algorithm\n",
    "knn.fit(X_train, y_train)\n",
    "\n",
    "# Predict new values\n",
    "y_pred = knn.predict(X_test)\n",
    "\n",
    "# Compare test data with predicted values\n",
    "acc_score = accuracy_score(y_test, y_pred)\n",
    "print(f\"Accuracy Score: {acc_score:.2f}%\")\n",
    "\n",
    "# Make  classification report\n",
    "cls_report = classification_report(y_test, y_pred)\n",
    "print(cls_report)\n",
    "\n",
    "\n",
    "# find best 2 variables"
   ]
  },
  {
   "cell_type": "markdown",
   "id": "409afb0b",
   "metadata": {},
   "source": [
    "## Algorithm 2 (Gaussian Naive Bayes Classifier)"
   ]
  },
  {
   "cell_type": "code",
   "execution_count": 140,
   "id": "f7953b11",
   "metadata": {
    "scrolled": false
   },
   "outputs": [
    {
     "name": "stdout",
     "output_type": "stream",
     "text": [
      "Accuracy Score: 0.92%\n",
      "              precision    recall  f1-score   support\n",
      "\n",
      "           0       1.00      0.78      0.88        63\n",
      "           1       0.89      1.00      0.94       108\n",
      "\n",
      "    accuracy                           0.92       171\n",
      "   macro avg       0.94      0.89      0.91       171\n",
      "weighted avg       0.93      0.92      0.92       171\n",
      "\n"
     ]
    }
   ],
   "source": [
    "# Make algorithm\n",
    "gnb = GaussianNB()\n",
    "\n",
    "# Fit algorithm\n",
    "gnb.fit(X_train, y_train)\n",
    "\n",
    "# Predict new values\n",
    "y_pred = gnb.predict(X_test)\n",
    "\n",
    "# Compare test data with predicted values\n",
    "acc_score = accuracy_score(y_test, y_pred)\n",
    "print(f\"Accuracy Score: {acc_score:.2f}%\")\n",
    "\n",
    "# Make  classification report\n",
    "cls_report = classification_report(y_test, y_pred)\n",
    "print(cls_report)\n",
    "\n",
    "# find best 2 variables"
   ]
  },
  {
   "cell_type": "markdown",
   "id": "0bcd1535",
   "metadata": {},
   "source": [
    "## Perform PCA"
   ]
  },
  {
   "cell_type": "code",
   "execution_count": 136,
   "id": "5d723d47",
   "metadata": {},
   "outputs": [],
   "source": [
    "# Perform PCA\n",
    "pca = PCA(n_components=2)\n",
    "X_pca = pca.fit_transform(X)\n",
    "\n",
    "# Split data into training and testing segments from PCA\n",
    "X_train, X_test, y_train, y_test = train_test_split(X_pca, y, test_size=0.3, random_state=42)"
   ]
  },
  {
   "cell_type": "markdown",
   "id": "2677467a",
   "metadata": {},
   "source": [
    "### Algorithm 1 (Nearest Neighbors) on PCA"
   ]
  },
  {
   "cell_type": "code",
   "execution_count": 137,
   "id": "c3cb12ec",
   "metadata": {},
   "outputs": [
    {
     "name": "stdout",
     "output_type": "stream",
     "text": [
      "Accuracy Score: 0.94%\n",
      "              precision    recall  f1-score   support\n",
      "\n",
      "           0       0.92      0.92      0.92        63\n",
      "           1       0.95      0.95      0.95       108\n",
      "\n",
      "    accuracy                           0.94       171\n",
      "   macro avg       0.94      0.94      0.94       171\n",
      "weighted avg       0.94      0.94      0.94       171\n",
      "\n"
     ]
    }
   ],
   "source": [
    "# Make algorithm 1\n",
    "from sklearn.neighbors import KNeighborsClassifier\n",
    "k = 3\n",
    "knn = KNeighborsClassifier(n_neighbors=k)\n",
    "\n",
    "# Fit algorithm\n",
    "knn.fit(X_train, y_train)\n",
    "\n",
    "# Predict new values\n",
    "y_pred = knn.predict(X_test)\n",
    "\n",
    "# Compare test data with predicted values\n",
    "acc_score = accuracy_score(y_test, y_pred)\n",
    "print(f\"Accuracy Score: {acc_score:.2f}%\")\n",
    "\n",
    "# Make  classification report\n",
    "cls_report = classification_report(y_test, y_pred)\n",
    "print(cls_report)\n",
    "\n",
    "# find best 2 variables"
   ]
  },
  {
   "cell_type": "markdown",
   "id": "fba7c20a",
   "metadata": {},
   "source": [
    "### Algorithm 2 (Gaussian Naive Bayes Classifier) on PCA"
   ]
  },
  {
   "cell_type": "code",
   "execution_count": 139,
   "id": "cc8a006e",
   "metadata": {
    "scrolled": true
   },
   "outputs": [
    {
     "name": "stdout",
     "output_type": "stream",
     "text": [
      "Accuracy Score: 0.92%\n",
      "              precision    recall  f1-score   support\n",
      "\n",
      "           0       1.00      0.78      0.88        63\n",
      "           1       0.89      1.00      0.94       108\n",
      "\n",
      "    accuracy                           0.92       171\n",
      "   macro avg       0.94      0.89      0.91       171\n",
      "weighted avg       0.93      0.92      0.92       171\n",
      "\n"
     ]
    }
   ],
   "source": [
    "# Create a Naive Bayes classifier\n",
    "gnb = GaussianNB()\n",
    "\n",
    "# Fit algorithm\n",
    "gnb.fit(X_train, y_train)\n",
    "\n",
    "# Predict new values\n",
    "y_pred = gnb.predict(X_test)\n",
    "\n",
    "# Compare test data with predicted values\n",
    "acc_score = accuracy_score(y_test, y_pred)\n",
    "print(f\"Accuracy Score: {acc_score:.2f}%\")\n",
    "\n",
    "# Make  classification report\n",
    "cls_report = classification_report(y_test, y_pred)\n",
    "print(cls_report)\n",
    "\n",
    "# find best 2 variables"
   ]
  }
 ],
 "metadata": {
  "kernelspec": {
   "display_name": "Python 3 (ipykernel)",
   "language": "python",
   "name": "python3"
  },
  "language_info": {
   "codemirror_mode": {
    "name": "ipython",
    "version": 3
   },
   "file_extension": ".py",
   "mimetype": "text/x-python",
   "name": "python",
   "nbconvert_exporter": "python",
   "pygments_lexer": "ipython3",
   "version": "3.9.16"
  }
 },
 "nbformat": 4,
 "nbformat_minor": 5
}
