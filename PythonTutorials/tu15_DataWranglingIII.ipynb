{
 "cells": [
  {
   "cell_type": "markdown",
   "id": "7c915198-6974-494a-a6ae-b8d19533e0fd",
   "metadata": {},
   "source": [
    "# Wrangling III "
   ]
  },
  {
   "cell_type": "markdown",
   "id": "6d77b21f-2e93-452f-a73a-e3f1f0c3855b",
   "metadata": {},
   "source": [
    "In this tutorial, we'll round out our focus on data wrangling by looking \n",
    "\n",
    "- handling duplicate values\n",
    "- data transformations"
   ]
  },
  {
   "cell_type": "markdown",
   "id": "b0321172-6e5e-421c-8261-31cb40579803",
   "metadata": {},
   "source": [
    "## Preliminaries"
   ]
  },
  {
   "cell_type": "markdown",
   "id": "3a296fa2-f538-43b4-a9da-507ae0189122",
   "metadata": {},
   "source": [
    "As usual, we'll load some libraries we'll be likely to use."
   ]
  },
  {
   "cell_type": "code",
   "execution_count": 1,
   "id": "1e64392f-fab1-4a49-93a0-d0d1b06b92d8",
   "metadata": {},
   "outputs": [
    {
     "name": "stderr",
     "output_type": "stream",
     "text": [
      "/opt/anaconda3/lib/python3.9/site-packages/scipy/__init__.py:146: UserWarning: A NumPy version >=1.16.5 and <1.23.0 is required for this version of SciPy (detected version 1.23.5\n",
      "  warnings.warn(f\"A NumPy version >={np_minversion} and <{np_maxversion}\"\n"
     ]
    }
   ],
   "source": [
    "import numpy as np\n",
    "import pandas as pd\n",
    "import matplotlib.pyplot as plt\n",
    "import seaborn as sns"
   ]
  },
  {
   "cell_type": "markdown",
   "id": "05ac90f8-bb3b-4625-8a08-5bb029a03be8",
   "metadata": {},
   "source": [
    "Now we'll get set up to work by\n",
    "\n",
    "- loading the cancer data and cleaning it up (as before)\n",
    "- trim out some columns so we can look at the data frame more easily\n",
    "- shorten up some of the column names to save ourselves some typing"
   ]
  },
  {
   "cell_type": "markdown",
   "id": "0fbd2e5c-23e4-4bd8-9fed-9a01beff7559",
   "metadata": {},
   "source": [
    "Let's reuse our function to do the loading and cleaning."
   ]
  },
  {
   "cell_type": "code",
   "execution_count": 2,
   "id": "b2dab376-bc16-42f7-a5b4-6c600c6370cc",
   "metadata": {},
   "outputs": [],
   "source": [
    "def bcd_load_clean():\n",
    "    bcd = pd.read_csv('./data/breast_cancer_data.csv')\n",
    "    bcd['patient_id'] = bcd['patient_id'].astype('string')\n",
    "    bcd['doctor_name'] = bcd['doctor_name'].str.split().str[1]\n",
    "    bcd['bare_nuclei'] = bcd['bare_nuclei'].replace('?', '')\n",
    "    bcd['bare_nuclei'] = pd.to_numeric(bcd['bare_nuclei'])\n",
    "    \n",
    "    return bcd"
   ]
  },
  {
   "cell_type": "code",
   "execution_count": 3,
   "id": "feab347b-2f1b-4553-b8f9-8ed95a6e5ab5",
   "metadata": {},
   "outputs": [],
   "source": [
    "bcd = bcd_load_clean()"
   ]
  },
  {
   "cell_type": "markdown",
   "id": "231327c8-4c7d-4ff8-bb21-72d3228fd45c",
   "metadata": {},
   "source": [
    "Make a little version with just two numeric columns to play with."
   ]
  },
  {
   "cell_type": "code",
   "execution_count": 4,
   "id": "6fec794d-d2a5-4851-a8d4-1a532a8895b4",
   "metadata": {},
   "outputs": [],
   "source": [
    "bcd2 = bcd[['patient_id', 'clump_thickness', 'bland_chromatin', 'class']].copy()"
   ]
  },
  {
   "cell_type": "markdown",
   "id": "d5c2983e-bdc8-4b4d-ba8c-cdd6c3ff9c2f",
   "metadata": {},
   "source": [
    "Let's give the columns shorter names to save some typing."
   ]
  },
  {
   "cell_type": "code",
   "execution_count": 5,
   "id": "03a65b40-4954-4b02-bcc0-f59a7f2fa93a",
   "metadata": {},
   "outputs": [],
   "source": [
    "bcd2 = bcd2.rename(columns={'clump_thickness': 'thick',\n",
    "                            'bland_chromatin': 'chrom',\n",
    "                            'patient_id': 'id'})"
   ]
  },
  {
   "cell_type": "markdown",
   "id": "b924f04e-c52e-4b3c-a911-0fc4dcb539e2",
   "metadata": {
    "tags": []
   },
   "source": [
    "## Duplicate entries"
   ]
  },
  {
   "cell_type": "markdown",
   "id": "5ee75c2e-dac0-4a78-8f02-a44d19f5d09b",
   "metadata": {},
   "source": [
    "As we have already seen, datasets can contain strange things that we have to overcome prior to analysis. One of the most common issues in a dataset are duplicate entries. These are common with large datasets that have been transcribed by humans at some point. Humands get bored, lose their place, etc."
   ]
  },
  {
   "cell_type": "markdown",
   "id": "cb217b03-f70f-419a-9932-ef9cb78da0ca",
   "metadata": {
    "tags": []
   },
   "source": [
    "---"
   ]
  },
  {
   "cell_type": "markdown",
   "id": "d0056bbe-f4c9-4e37-b341-71105729bf57",
   "metadata": {},
   "source": [
    "Let's look at the shape of our cancer data frame (remember data frames have a `shape` attribute)."
   ]
  },
  {
   "cell_type": "code",
   "execution_count": 8,
   "id": "c73b0ec4-c5ae-44d4-a9e7-bebcb64d924f",
   "metadata": {},
   "outputs": [
    {
     "data": {
      "text/plain": [
       "(699, 4)"
      ]
     },
     "execution_count": 8,
     "metadata": {},
     "output_type": "execute_result"
    }
   ],
   "source": [
    "bcd2.shape"
   ]
  },
  {
   "cell_type": "markdown",
   "id": "d2685d8c-7e7c-4c45-8335-3e9173a44fe5",
   "metadata": {
    "tags": []
   },
   "source": [
    "---"
   ]
  },
  {
   "cell_type": "markdown",
   "id": "134cd54b-e9b7-46fe-a2a2-37e83255b99a",
   "metadata": {},
   "source": [
    "Now let's look at the number of unique entries using the `nunique()` data frame method; this will return the number of distinct values in each column."
   ]
  },
  {
   "cell_type": "code",
   "execution_count": 12,
   "id": "ae5b7d3c-30ec-43ca-860b-05c88d5dea30",
   "metadata": {
    "tags": []
   },
   "outputs": [
    {
     "data": {
      "text/plain": [
       "id       645\n",
       "thick     10\n",
       "chrom     10\n",
       "class      2\n",
       "dtype: int64"
      ]
     },
     "execution_count": 12,
     "metadata": {},
     "output_type": "execute_result"
    }
   ],
   "source": [
    "bcd2.nunique()"
   ]
  },
  {
   "cell_type": "markdown",
   "id": "d9355186-dc9d-48aa-b5a2-0fa670306bc1",
   "metadata": {
    "tags": []
   },
   "source": [
    "---"
   ]
  },
  {
   "cell_type": "markdown",
   "id": "c6299bb5-08a2-4e6e-984f-c07f95c9ebd4",
   "metadata": {},
   "source": [
    "So we can see that, while there are 699 observations in our data, there are only 645 unique patient ids. This tells us that several patients have multiple entries. These could be from patients making multiple visits to the doctor, or they could be a mistakes, or some combination thereof."
   ]
  },
  {
   "cell_type": "markdown",
   "id": "aba6643b-02a5-4a1b-8266-cf3037b47ec5",
   "metadata": {},
   "source": [
    "We can find out which rows – which entire observations – are identical with the `duplicated()` method. "
   ]
  },
  {
   "cell_type": "code",
   "execution_count": 13,
   "id": "c8a4c4b1-e536-4355-893b-05e8dcb88a14",
   "metadata": {},
   "outputs": [
    {
     "data": {
      "text/plain": [
       "0      False\n",
       "1      False\n",
       "2      False\n",
       "3      False\n",
       "4      False\n",
       "       ...  \n",
       "694    False\n",
       "695    False\n",
       "696    False\n",
       "697    False\n",
       "698     True\n",
       "Length: 699, dtype: bool"
      ]
     },
     "execution_count": 13,
     "metadata": {},
     "output_type": "execute_result"
    }
   ],
   "source": [
    "bcd2.duplicated()"
   ]
  },
  {
   "cell_type": "markdown",
   "id": "956d6c72-9e09-4244-a7d7-c687fb1857b4",
   "metadata": {},
   "source": [
    "That's not terribly helpful by itself, but..."
   ]
  },
  {
   "cell_type": "markdown",
   "id": "2a50e70d-3620-4ce6-a8b1-ff214bde465c",
   "metadata": {},
   "source": [
    "---"
   ]
  },
  {
   "cell_type": "markdown",
   "id": "38f3da9e-551f-4ee6-8afe-d79dd171cf5c",
   "metadata": {},
   "source": [
    "In the cell below, count the number of duplicated rows (remember a True is a 1)."
   ]
  },
  {
   "cell_type": "code",
   "execution_count": 16,
   "id": "b4ceff04-e0ac-4092-aa71-c89739f737d0",
   "metadata": {},
   "outputs": [
    {
     "data": {
      "text/plain": [
       "12"
      ]
     },
     "execution_count": 16,
     "metadata": {},
     "output_type": "execute_result"
    }
   ],
   "source": [
    "bcd2.duplicated().sum()"
   ]
  },
  {
   "cell_type": "markdown",
   "id": "1d984504-e4c3-436d-b2bd-f0585632f24f",
   "metadata": {},
   "source": [
    "---"
   ]
  },
  {
   "cell_type": "markdown",
   "id": "84de93e0-64ac-4cf1-9956-8a7a0eaf89ce",
   "metadata": {},
   "source": [
    "We can also use the output of `.duplicated()` to do logical indexing to see the observations that have duplicates. Do that in the cell below."
   ]
  },
  {
   "cell_type": "code",
   "execution_count": 27,
   "id": "e1026b28-e140-41d3-9fe6-2fc8a5356f6c",
   "metadata": {},
   "outputs": [
    {
     "data": {
      "text/html": [
       "<div>\n",
       "<style scoped>\n",
       "    .dataframe tbody tr th:only-of-type {\n",
       "        vertical-align: middle;\n",
       "    }\n",
       "\n",
       "    .dataframe tbody tr th {\n",
       "        vertical-align: top;\n",
       "    }\n",
       "\n",
       "    .dataframe thead th {\n",
       "        text-align: right;\n",
       "    }\n",
       "</style>\n",
       "<table border=\"1\" class=\"dataframe\">\n",
       "  <thead>\n",
       "    <tr style=\"text-align: right;\">\n",
       "      <th></th>\n",
       "      <th>id</th>\n",
       "      <th>thick</th>\n",
       "      <th>chrom</th>\n",
       "      <th>class</th>\n",
       "    </tr>\n",
       "  </thead>\n",
       "  <tbody>\n",
       "    <tr>\n",
       "      <th>208</th>\n",
       "      <td>1218860</td>\n",
       "      <td>1.0</td>\n",
       "      <td>3.0</td>\n",
       "      <td>benign</td>\n",
       "    </tr>\n",
       "    <tr>\n",
       "      <th>253</th>\n",
       "      <td>1100524</td>\n",
       "      <td>6.0</td>\n",
       "      <td>7.0</td>\n",
       "      <td>malignant</td>\n",
       "    </tr>\n",
       "    <tr>\n",
       "      <th>254</th>\n",
       "      <td>1116116</td>\n",
       "      <td>9.0</td>\n",
       "      <td>3.0</td>\n",
       "      <td>malignant</td>\n",
       "    </tr>\n",
       "    <tr>\n",
       "      <th>258</th>\n",
       "      <td>1198641</td>\n",
       "      <td>3.0</td>\n",
       "      <td>3.0</td>\n",
       "      <td>benign</td>\n",
       "    </tr>\n",
       "    <tr>\n",
       "      <th>272</th>\n",
       "      <td>320675</td>\n",
       "      <td>3.0</td>\n",
       "      <td>7.0</td>\n",
       "      <td>malignant</td>\n",
       "    </tr>\n",
       "    <tr>\n",
       "      <th>322</th>\n",
       "      <td>733639</td>\n",
       "      <td>3.0</td>\n",
       "      <td>3.0</td>\n",
       "      <td>benign</td>\n",
       "    </tr>\n",
       "    <tr>\n",
       "      <th>338</th>\n",
       "      <td>704097</td>\n",
       "      <td>1.0</td>\n",
       "      <td>2.0</td>\n",
       "      <td>benign</td>\n",
       "    </tr>\n",
       "    <tr>\n",
       "      <th>443</th>\n",
       "      <td>734111</td>\n",
       "      <td>1.0</td>\n",
       "      <td>1.0</td>\n",
       "      <td>benign</td>\n",
       "    </tr>\n",
       "    <tr>\n",
       "      <th>561</th>\n",
       "      <td>1321942</td>\n",
       "      <td>5.0</td>\n",
       "      <td>3.0</td>\n",
       "      <td>benign</td>\n",
       "    </tr>\n",
       "    <tr>\n",
       "      <th>684</th>\n",
       "      <td>466906</td>\n",
       "      <td>1.0</td>\n",
       "      <td>1.0</td>\n",
       "      <td>benign</td>\n",
       "    </tr>\n",
       "    <tr>\n",
       "      <th>690</th>\n",
       "      <td>654546</td>\n",
       "      <td>1.0</td>\n",
       "      <td>1.0</td>\n",
       "      <td>benign</td>\n",
       "    </tr>\n",
       "    <tr>\n",
       "      <th>698</th>\n",
       "      <td>897471</td>\n",
       "      <td>4.0</td>\n",
       "      <td>10.0</td>\n",
       "      <td>malignant</td>\n",
       "    </tr>\n",
       "  </tbody>\n",
       "</table>\n",
       "</div>"
      ],
      "text/plain": [
       "          id  thick  chrom      class\n",
       "208  1218860    1.0    3.0     benign\n",
       "253  1100524    6.0    7.0  malignant\n",
       "254  1116116    9.0    3.0  malignant\n",
       "258  1198641    3.0    3.0     benign\n",
       "272   320675    3.0    7.0  malignant\n",
       "322   733639    3.0    3.0     benign\n",
       "338   704097    1.0    2.0     benign\n",
       "443   734111    1.0    1.0     benign\n",
       "561  1321942    5.0    3.0     benign\n",
       "684   466906    1.0    1.0     benign\n",
       "690   654546    1.0    1.0     benign\n",
       "698   897471    4.0   10.0  malignant"
      ]
     },
     "execution_count": 27,
     "metadata": {},
     "output_type": "execute_result"
    }
   ],
   "source": [
    "bcd2[bcd2.duplicated()]"
   ]
  },
  {
   "cell_type": "markdown",
   "id": "7f00afed-5f3e-4630-b839-5298c6eccf60",
   "metadata": {},
   "source": [
    "---"
   ]
  },
  {
   "cell_type": "markdown",
   "id": "5a15cd40-2f82-461d-9742-25344c5ecd90",
   "metadata": {},
   "source": [
    "This is promising but, if we look at what is listed, we don't actually see any duplicates. So what is `duplicates()` doing?"
   ]
  },
  {
   "cell_type": "markdown",
   "id": "57d704a6-d646-4bc5-b1ee-08a585661dc2",
   "metadata": {},
   "source": [
    "---"
   ]
  },
  {
   "cell_type": "markdown",
   "id": "acca2d05-25dd-4283-a004-810dad74379e",
   "metadata": {},
   "source": [
    "Use the cell below to get help on `duplicated()` using `help()` or `?`."
   ]
  },
  {
   "cell_type": "code",
   "execution_count": null,
   "id": "fa7fa424-7a8b-494a-95f3-f18bb7f05e6d",
   "metadata": {},
   "outputs": [],
   "source": [
    "bcd2.duplicated()?"
   ]
  },
  {
   "cell_type": "markdown",
   "id": "bde47681-0f32-4771-b777-3b97f2baf03e",
   "metadata": {},
   "source": [
    "---"
   ]
  },
  {
   "cell_type": "markdown",
   "id": "690decbc-8294-4495-9e12-bb21b66bb2d8",
   "metadata": {
    "tags": []
   },
   "source": [
    "... we can see that it has a \"keep\" argument. By default, `duplicated()` it gives us the *first* instance of any duplicated rows. We can make it show all the rows with `keep=False`."
   ]
  },
  {
   "cell_type": "markdown",
   "id": "b96988be-ca5c-4847-804f-b06e46cc6e10",
   "metadata": {},
   "source": [
    "Go ahead and do that in the cell below."
   ]
  },
  {
   "cell_type": "code",
   "execution_count": 24,
   "id": "fdf71048-5308-414b-be6f-2efb7f92d540",
   "metadata": {
    "tags": []
   },
   "outputs": [
    {
     "data": {
      "text/plain": [
       "0      False\n",
       "1      False\n",
       "2      False\n",
       "3      False\n",
       "4      False\n",
       "       ...  \n",
       "694    False\n",
       "695    False\n",
       "696    False\n",
       "697     True\n",
       "698     True\n",
       "Length: 699, dtype: bool"
      ]
     },
     "execution_count": 24,
     "metadata": {},
     "output_type": "execute_result"
    }
   ],
   "source": [
    "bcd2.duplicated(keep=False)"
   ]
  },
  {
   "cell_type": "markdown",
   "id": "48ceec6b-6856-4ef6-859e-297a18a7b85d",
   "metadata": {},
   "source": [
    "---"
   ]
  },
  {
   "cell_type": "markdown",
   "id": "6563ff66-ccef-4afc-af7c-2718e301c8ed",
   "metadata": {
    "tags": []
   },
   "source": [
    "Hm. That's somewhat helpful. If we look near the bottom, we see that the last 5 or so duplicates occur in successive rows, perhaps indicating a data entry mistake. Perhaps looking at the data sorted by patient ID would be more helpful."
   ]
  },
  {
   "cell_type": "markdown",
   "id": "3b89c036-48f5-49b2-bdd2-669758fa8cc8",
   "metadata": {},
   "source": [
    "---"
   ]
  },
  {
   "cell_type": "markdown",
   "id": "2fd9e12f-be0c-41f5-a5d6-f3f75cdb7fa1",
   "metadata": {},
   "source": [
    "In the cell below, use the the `.sort_values()` method to look at our duplicates sorted by ID."
   ]
  },
  {
   "cell_type": "code",
   "execution_count": 39,
   "id": "59966d9f-e452-45d1-90bf-1b887d53f9f3",
   "metadata": {},
   "outputs": [
    {
     "data": {
      "text/html": [
       "<div>\n",
       "<style scoped>\n",
       "    .dataframe tbody tr th:only-of-type {\n",
       "        vertical-align: middle;\n",
       "    }\n",
       "\n",
       "    .dataframe tbody tr th {\n",
       "        vertical-align: top;\n",
       "    }\n",
       "\n",
       "    .dataframe thead th {\n",
       "        text-align: right;\n",
       "    }\n",
       "</style>\n",
       "<table border=\"1\" class=\"dataframe\">\n",
       "  <thead>\n",
       "    <tr style=\"text-align: right;\">\n",
       "      <th></th>\n",
       "      <th>id</th>\n",
       "      <th>thick</th>\n",
       "      <th>chrom</th>\n",
       "      <th>class</th>\n",
       "    </tr>\n",
       "  </thead>\n",
       "  <tbody>\n",
       "    <tr>\n",
       "      <th>0</th>\n",
       "      <td>1000025</td>\n",
       "      <td>5.0</td>\n",
       "      <td>3.0</td>\n",
       "      <td>benign</td>\n",
       "    </tr>\n",
       "    <tr>\n",
       "      <th>485</th>\n",
       "      <td>1002025</td>\n",
       "      <td>1.0</td>\n",
       "      <td>1.0</td>\n",
       "      <td>benign</td>\n",
       "    </tr>\n",
       "    <tr>\n",
       "      <th>382</th>\n",
       "      <td>1002504</td>\n",
       "      <td>3.0</td>\n",
       "      <td>3.0</td>\n",
       "      <td>benign</td>\n",
       "    </tr>\n",
       "    <tr>\n",
       "      <th>1</th>\n",
       "      <td>1002945</td>\n",
       "      <td>5.0</td>\n",
       "      <td>3.0</td>\n",
       "      <td>benign</td>\n",
       "    </tr>\n",
       "    <tr>\n",
       "      <th>2</th>\n",
       "      <td>1015425</td>\n",
       "      <td>3.0</td>\n",
       "      <td>3.0</td>\n",
       "      <td>benign</td>\n",
       "    </tr>\n",
       "    <tr>\n",
       "      <th>...</th>\n",
       "      <td>...</td>\n",
       "      <td>...</td>\n",
       "      <td>...</td>\n",
       "      <td>...</td>\n",
       "    </tr>\n",
       "    <tr>\n",
       "      <th>364</th>\n",
       "      <td>896404</td>\n",
       "      <td>2.0</td>\n",
       "      <td>3.0</td>\n",
       "      <td>benign</td>\n",
       "    </tr>\n",
       "    <tr>\n",
       "      <th>365</th>\n",
       "      <td>897172</td>\n",
       "      <td>2.0</td>\n",
       "      <td>NaN</td>\n",
       "      <td>benign</td>\n",
       "    </tr>\n",
       "    <tr>\n",
       "      <th>697</th>\n",
       "      <td>897471</td>\n",
       "      <td>4.0</td>\n",
       "      <td>10.0</td>\n",
       "      <td>malignant</td>\n",
       "    </tr>\n",
       "    <tr>\n",
       "      <th>698</th>\n",
       "      <td>897471</td>\n",
       "      <td>4.0</td>\n",
       "      <td>10.0</td>\n",
       "      <td>malignant</td>\n",
       "    </tr>\n",
       "    <tr>\n",
       "      <th>366</th>\n",
       "      <td>95719</td>\n",
       "      <td>6.0</td>\n",
       "      <td>7.0</td>\n",
       "      <td>malignant</td>\n",
       "    </tr>\n",
       "  </tbody>\n",
       "</table>\n",
       "<p>699 rows × 4 columns</p>\n",
       "</div>"
      ],
      "text/plain": [
       "          id  thick  chrom      class\n",
       "0    1000025    5.0    3.0     benign\n",
       "485  1002025    1.0    1.0     benign\n",
       "382  1002504    3.0    3.0     benign\n",
       "1    1002945    5.0    3.0     benign\n",
       "2    1015425    3.0    3.0     benign\n",
       "..       ...    ...    ...        ...\n",
       "364   896404    2.0    3.0     benign\n",
       "365   897172    2.0    NaN     benign\n",
       "697   897471    4.0   10.0  malignant\n",
       "698   897471    4.0   10.0  malignant\n",
       "366    95719    6.0    7.0  malignant\n",
       "\n",
       "[699 rows x 4 columns]"
      ]
     },
     "execution_count": 39,
     "metadata": {},
     "output_type": "execute_result"
    }
   ],
   "source": [
    "bcd2.sort_values(by=['id'])"
   ]
  },
  {
   "cell_type": "markdown",
   "id": "bde2a5db-c7ba-4e34-920a-db1634e2e277",
   "metadata": {},
   "source": [
    "So most of the duplicates occur in adjacent rows, but others do not. Perhaps we should check and see if the same patients occur multiple times with different measurements, indicating multiple visits to the doctor. "
   ]
  },
  {
   "cell_type": "markdown",
   "id": "bc91a175-eff0-470f-a58b-5c4d4771459e",
   "metadata": {},
   "source": [
    "---"
   ]
  },
  {
   "cell_type": "markdown",
   "id": "00c3eb83-e190-4932-ab4b-a1b1b6ce24ea",
   "metadata": {},
   "source": [
    "Use the cell below and the `subset` argument to `duplicated()` to look at multiple entries for any patients that have them."
   ]
  },
  {
   "cell_type": "code",
   "execution_count": 58,
   "id": "f53efac7-9ec0-4b58-abbc-75ecc6cb7d4d",
   "metadata": {},
   "outputs": [
    {
     "data": {
      "text/plain": [
       "0      False\n",
       "1       True\n",
       "2       True\n",
       "3       True\n",
       "4       True\n",
       "       ...  \n",
       "694     True\n",
       "695     True\n",
       "696     True\n",
       "697     True\n",
       "698     True\n",
       "Length: 699, dtype: bool"
      ]
     },
     "execution_count": 58,
     "metadata": {},
     "output_type": "execute_result"
    }
   ],
   "source": [
    "bcd2.duplicated(subset = 'chrom')"
   ]
  },
  {
   "cell_type": "markdown",
   "id": "29d9b2dc-97ac-4a40-8a0b-a9b2fc31b73b",
   "metadata": {},
   "source": [
    "---"
   ]
  },
  {
   "cell_type": "markdown",
   "id": "5616ea16-b64e-4069-885f-17b490632326",
   "metadata": {},
   "source": [
    "Now, in the cell below, do the same thing but sort the output by patient ID."
   ]
  },
  {
   "cell_type": "code",
   "execution_count": 59,
   "id": "bdd38328-8e77-4a40-b6ec-226f63d5d3c8",
   "metadata": {},
   "outputs": [
    {
     "data": {
      "text/plain": [
       "0      False\n",
       "1      False\n",
       "2      False\n",
       "3      False\n",
       "4      False\n",
       "       ...  \n",
       "694    False\n",
       "695    False\n",
       "696    False\n",
       "697    False\n",
       "698     True\n",
       "Length: 699, dtype: bool"
      ]
     },
     "execution_count": 59,
     "metadata": {},
     "output_type": "execute_result"
    }
   ],
   "source": [
    "bcd2.duplicated(subset = 'id')"
   ]
  },
  {
   "cell_type": "markdown",
   "id": "f1febc84-ff00-45a7-8b0c-8355d9fdb512",
   "metadata": {},
   "source": [
    "---"
   ]
  },
  {
   "cell_type": "markdown",
   "id": "842e97e4-4123-495c-9ca2-82ed15afdf02",
   "metadata": {},
   "source": [
    "So it looks like patients do come in multiple times and the values can change between visits."
   ]
  },
  {
   "cell_type": "markdown",
   "id": "485ec067-9ee7-4483-8289-10fe578e8a80",
   "metadata": {},
   "source": [
    "We can look at repeat patient's number of visits directly if we want. We'll take advantage of the fact that the `.size` of a `groupby()` object returns the number of rows for each group."
   ]
  },
  {
   "cell_type": "code",
   "execution_count": 60,
   "id": "8a3c3e73-9112-4848-a066-c4b5c39c2c6a",
   "metadata": {},
   "outputs": [],
   "source": [
    "repeat_patients = bcd2.groupby('id').size().sort_values(ascending =False)"
   ]
  },
  {
   "cell_type": "code",
   "execution_count": 61,
   "id": "19833c2f-32b5-411a-883a-a57660f5ecbb",
   "metadata": {
    "tags": []
   },
   "outputs": [
    {
     "data": {
      "text/plain": [
       "id\n",
       "1182404    6\n",
       "1276091    5\n",
       "1198641    3\n",
       "1299596    2\n",
       "1158247    2\n",
       "          ..\n",
       "1200892    1\n",
       "1200952    1\n",
       "1201834    1\n",
       "1201870    1\n",
       "95719      1\n",
       "Length: 645, dtype: int64"
      ]
     },
     "execution_count": 61,
     "metadata": {},
     "output_type": "execute_result"
    }
   ],
   "source": [
    "repeat_patients"
   ]
  },
  {
   "cell_type": "markdown",
   "id": "1dc981e1-3bb7-4315-bce4-0ab6757dcae6",
   "metadata": {},
   "source": [
    "---"
   ]
  },
  {
   "cell_type": "markdown",
   "id": "8e4309e4-7ba6-43df-a67a-bdb8758470ba",
   "metadata": {},
   "source": [
    "So one patient came in 6 times."
   ]
  },
  {
   "cell_type": "markdown",
   "id": "24b8cdb6-4056-4f77-b68d-075c2f642c3c",
   "metadata": {},
   "source": [
    "---"
   ]
  },
  {
   "cell_type": "markdown",
   "id": "b604d72b-5ae1-4510-bec9-894de2ed778b",
   "metadata": {},
   "source": [
    "Use the cell below look at the data for the patient with 6 visits."
   ]
  },
  {
   "cell_type": "code",
   "execution_count": 62,
   "id": "a2afafb3-b5d3-49bd-b156-03713d2b3429",
   "metadata": {},
   "outputs": [
    {
     "data": {
      "text/html": [
       "<div>\n",
       "<style scoped>\n",
       "    .dataframe tbody tr th:only-of-type {\n",
       "        vertical-align: middle;\n",
       "    }\n",
       "\n",
       "    .dataframe tbody tr th {\n",
       "        vertical-align: top;\n",
       "    }\n",
       "\n",
       "    .dataframe thead th {\n",
       "        text-align: right;\n",
       "    }\n",
       "</style>\n",
       "<table border=\"1\" class=\"dataframe\">\n",
       "  <thead>\n",
       "    <tr style=\"text-align: right;\">\n",
       "      <th></th>\n",
       "      <th>id</th>\n",
       "      <th>thick</th>\n",
       "      <th>chrom</th>\n",
       "      <th>class</th>\n",
       "    </tr>\n",
       "  </thead>\n",
       "  <tbody>\n",
       "    <tr>\n",
       "      <th>136</th>\n",
       "      <td>1182404</td>\n",
       "      <td>4.0</td>\n",
       "      <td>2.0</td>\n",
       "      <td>benign</td>\n",
       "    </tr>\n",
       "    <tr>\n",
       "      <th>256</th>\n",
       "      <td>1182404</td>\n",
       "      <td>3.0</td>\n",
       "      <td>1.0</td>\n",
       "      <td>benign</td>\n",
       "    </tr>\n",
       "    <tr>\n",
       "      <th>257</th>\n",
       "      <td>1182404</td>\n",
       "      <td>3.0</td>\n",
       "      <td>2.0</td>\n",
       "      <td>benign</td>\n",
       "    </tr>\n",
       "    <tr>\n",
       "      <th>265</th>\n",
       "      <td>1182404</td>\n",
       "      <td>5.0</td>\n",
       "      <td>3.0</td>\n",
       "      <td>benign</td>\n",
       "    </tr>\n",
       "    <tr>\n",
       "      <th>448</th>\n",
       "      <td>1182404</td>\n",
       "      <td>1.0</td>\n",
       "      <td>1.0</td>\n",
       "      <td>benign</td>\n",
       "    </tr>\n",
       "    <tr>\n",
       "      <th>497</th>\n",
       "      <td>1182404</td>\n",
       "      <td>4.0</td>\n",
       "      <td>1.0</td>\n",
       "      <td>benign</td>\n",
       "    </tr>\n",
       "  </tbody>\n",
       "</table>\n",
       "</div>"
      ],
      "text/plain": [
       "          id  thick  chrom   class\n",
       "136  1182404    4.0    2.0  benign\n",
       "256  1182404    3.0    1.0  benign\n",
       "257  1182404    3.0    2.0  benign\n",
       "265  1182404    5.0    3.0  benign\n",
       "448  1182404    1.0    1.0  benign\n",
       "497  1182404    4.0    1.0  benign"
      ]
     },
     "execution_count": 62,
     "metadata": {},
     "output_type": "execute_result"
    }
   ],
   "source": [
    "bcd2[bcd2['id'] == '1182404']"
   ]
  },
  {
   "cell_type": "markdown",
   "id": "d3cca8fd-f257-4111-be35-cad30ce4a36b",
   "metadata": {},
   "source": [
    "---"
   ]
  },
  {
   "cell_type": "markdown",
   "id": "37fb8db9-f60d-452c-bdd1-bf52c16d64ce",
   "metadata": {},
   "source": [
    "So it appears that some patients have multiple legitimate entries in the data frame."
   ]
  },
  {
   "cell_type": "markdown",
   "id": "ecbaab56-a9fa-418b-8bdf-d1ba3d250a5b",
   "metadata": {},
   "source": [
    "---"
   ]
  },
  {
   "cell_type": "markdown",
   "id": "1bd253ce-10b8-448b-8a02-f9be5969ab90",
   "metadata": {},
   "source": [
    "If you were put in charge of analyzing these data, what would you do with duplicate observations in this data frame, and why?"
   ]
  },
  {
   "cell_type": "markdown",
   "id": "2e26d989-e1ea-4682-80bb-ce5d9baa0793",
   "metadata": {},
   "source": [
    "I would average them together or eliminate the patient from the dataset, depending on what I am trying to study. Since a pretty low number of patients have duplicate visits, it may be best just to omit them from the study."
   ]
  },
  {
   "cell_type": "markdown",
   "id": "12d24c44-ba06-4790-9feb-188ddcbe43a9",
   "metadata": {},
   "source": [
    "---"
   ]
  },
  {
   "cell_type": "markdown",
   "id": "2c3973fb-72df-48c1-afde-b63d96b5b0fd",
   "metadata": {},
   "source": [
    "## Transforming data"
   ]
  },
  {
   "cell_type": "markdown",
   "id": "cda43dfe-018e-43a9-ab8d-bad3da2d8983",
   "metadata": {},
   "source": [
    "Sometimes we wish to apply a transform to data by pushing each data value through some function. Common transformations are unit conversions (miles to kilometers, for example), log or power transformations, and normalizing data (for example, converting data to z-scores)."
   ]
  },
  {
   "cell_type": "markdown",
   "id": "fbcf312a-2cc7-4a1b-a803-fbc171f5b600",
   "metadata": {},
   "source": [
    "### Transforming data with a built-in function"
   ]
  },
  {
   "cell_type": "markdown",
   "id": "122c51a0-ba1d-4f4a-948c-4f8f55eb0fa1",
   "metadata": {},
   "source": [
    "Consider the following data..."
   ]
  },
  {
   "cell_type": "code",
   "execution_count": 103,
   "id": "274b22fa-f715-4c06-81a0-f5538afc1526",
   "metadata": {},
   "outputs": [],
   "source": [
    "df = pd.DataFrame({'x': range(6),\n",
    "                   'y': [0.1, 0.9, 4.2, 8.7, 15.9, 26]})"
   ]
  },
  {
   "cell_type": "code",
   "execution_count": 104,
   "id": "c9ae11a3-e8b4-4fc2-83fc-80b9830e37fa",
   "metadata": {},
   "outputs": [
    {
     "data": {
      "text/html": [
       "<div>\n",
       "<style scoped>\n",
       "    .dataframe tbody tr th:only-of-type {\n",
       "        vertical-align: middle;\n",
       "    }\n",
       "\n",
       "    .dataframe tbody tr th {\n",
       "        vertical-align: top;\n",
       "    }\n",
       "\n",
       "    .dataframe thead th {\n",
       "        text-align: right;\n",
       "    }\n",
       "</style>\n",
       "<table border=\"1\" class=\"dataframe\">\n",
       "  <thead>\n",
       "    <tr style=\"text-align: right;\">\n",
       "      <th></th>\n",
       "      <th>x</th>\n",
       "      <th>y</th>\n",
       "    </tr>\n",
       "  </thead>\n",
       "  <tbody>\n",
       "    <tr>\n",
       "      <th>0</th>\n",
       "      <td>0</td>\n",
       "      <td>0.1</td>\n",
       "    </tr>\n",
       "    <tr>\n",
       "      <th>1</th>\n",
       "      <td>1</td>\n",
       "      <td>0.9</td>\n",
       "    </tr>\n",
       "    <tr>\n",
       "      <th>2</th>\n",
       "      <td>2</td>\n",
       "      <td>4.2</td>\n",
       "    </tr>\n",
       "    <tr>\n",
       "      <th>3</th>\n",
       "      <td>3</td>\n",
       "      <td>8.7</td>\n",
       "    </tr>\n",
       "    <tr>\n",
       "      <th>4</th>\n",
       "      <td>4</td>\n",
       "      <td>15.9</td>\n",
       "    </tr>\n",
       "    <tr>\n",
       "      <th>5</th>\n",
       "      <td>5</td>\n",
       "      <td>26.0</td>\n",
       "    </tr>\n",
       "  </tbody>\n",
       "</table>\n",
       "</div>"
      ],
      "text/plain": [
       "   x     y\n",
       "0  0   0.1\n",
       "1  1   0.9\n",
       "2  2   4.2\n",
       "3  3   8.7\n",
       "4  4  15.9\n",
       "5  5  26.0"
      ]
     },
     "execution_count": 104,
     "metadata": {},
     "output_type": "execute_result"
    }
   ],
   "source": [
    "df"
   ]
  },
  {
   "cell_type": "markdown",
   "id": "c7f46273-7cfe-46ce-a891-6024e5bc7497",
   "metadata": {},
   "source": [
    "---"
   ]
  },
  {
   "cell_type": "markdown",
   "id": "73a88331-e074-486e-a99f-aa2f81da4256",
   "metadata": {},
   "source": [
    "Plot the data (y vs. x) (seaborn's `relplot()` is handy)."
   ]
  },
  {
   "cell_type": "code",
   "execution_count": 105,
   "id": "86da0ff1-e139-41db-b50e-2cedbd1a8759",
   "metadata": {},
   "outputs": [],
   "source": [
    "%matplotlib inline"
   ]
  },
  {
   "cell_type": "code",
   "execution_count": 106,
   "id": "02f26153-306e-4e54-a0e5-291bea987fc8",
   "metadata": {},
   "outputs": [
    {
     "data": {
      "text/plain": [
       "<seaborn.axisgrid.FacetGrid at 0x7f99310354f0>"
      ]
     },
     "execution_count": 106,
     "metadata": {},
     "output_type": "execute_result"
    },
    {
     "data": {
      "image/png": "[encoded data removed]",
      "text/plain": [
       "<Figure size 500x500 with 1 Axes>"
      ]
     },
     "metadata": {},
     "output_type": "display_data"
    }
   ],
   "source": [
    "# plot y vs. x\n",
    "\n",
    "sns.relplot(df, x='x', y ='y')"
   ]
  },
  {
   "cell_type": "markdown",
   "id": "6d649b03-1332-4e7f-aa8b-9eaab4036bef",
   "metadata": {},
   "source": [
    "---"
   ]
  },
  {
   "cell_type": "markdown",
   "id": "51e43c18-6bee-4d81-a551-0b36b791ca1d",
   "metadata": {},
   "source": [
    "These data look non-linear, like they are following a power law. If that's true, we should get a straight line if we plot the log of the values against one another. In order to get these values, we will use the `transform()` method to convert the values into their logs."
   ]
  },
  {
   "cell_type": "code",
   "execution_count": 107,
   "id": "71ae16d2-c5ca-4b76-b795-40e862339001",
   "metadata": {},
   "outputs": [],
   "source": [
    "df_trans = df.copy()\n",
    "df_trans['y'] = df['y'].transform(np.log10)\n",
    "df_trans['x'] = df['x'].transform(np.log10)"
   ]
  },
  {
   "cell_type": "code",
   "execution_count": 108,
   "id": "99ac1cea-1729-4baa-9d61-2acee70f995a",
   "metadata": {
    "tags": []
   },
   "outputs": [
    {
     "data": {
      "text/plain": [
       "<seaborn.axisgrid.FacetGrid at 0x7f9934314fa0>"
      ]
     },
     "execution_count": 108,
     "metadata": {},
     "output_type": "execute_result"
    },
    {
     "data": {
      "image/png": "[encoded data removed]",
      "text/plain": [
       "<Figure size 500x500 with 1 Axes>"
      ]
     },
     "metadata": {},
     "output_type": "display_data"
    }
   ],
   "source": [
    "# plot new y vs. new x\n",
    "sns.relplot(df_trans, x='x', y ='y')"
   ]
  },
  {
   "cell_type": "markdown",
   "id": "65df28b3-b9e5-4da8-bfee-0346b364aa3e",
   "metadata": {},
   "source": [
    "Sure enough. The slope of the line should tell us the exponent of the power law, and it looks to be about 2. If that's the case, then transforming the original y-values with a square-root function should also produce a straight line."
   ]
  },
  {
   "cell_type": "markdown",
   "id": "94d522a7-5a15-4e98-b7ba-cd84185078ea",
   "metadata": {},
   "source": [
    "In the cells below, use `transform()` to get the square root of the original y values, and plot them against the x values."
   ]
  },
  {
   "cell_type": "code",
   "execution_count": 109,
   "id": "3c85d7d8-85df-40a4-884c-63446a12d8df",
   "metadata": {},
   "outputs": [],
   "source": [
    "# get sqrts\n",
    "df_sqrt = df.copy()\n",
    "df_trans['y'] = df['y'].transform(np.sqrt)"
   ]
  },
  {
   "cell_type": "code",
   "execution_count": 110,
   "id": "8893b763-e7fe-4fb8-bc7a-dde9f65c84a0",
   "metadata": {
    "tags": []
   },
   "outputs": [
    {
     "data": {
      "text/plain": [
       "<seaborn.axisgrid.FacetGrid at 0x7f9931035d30>"
      ]
     },
     "execution_count": 110,
     "metadata": {},
     "output_type": "execute_result"
    },
    {
     "data": {
      "image/png": "[encoded data removed]",
      "text/plain": [
       "<Figure size 500x500 with 1 Axes>"
      ]
     },
     "metadata": {},
     "output_type": "display_data"
    }
   ],
   "source": [
    "#plot\n",
    "sns.relplot(df_sqrt, x='x', y ='y')"
   ]
  },
  {
   "cell_type": "markdown",
   "id": "f93abe4a-5fd7-4015-8667-62d685dc9529",
   "metadata": {},
   "source": [
    "---"
   ]
  },
  {
   "cell_type": "markdown",
   "id": "c013098f-837c-4973-bbd0-c1d1d03a49d5",
   "metadata": {},
   "source": [
    "We could also transform our cancer data. In the cell below, create a new data frame in which the numeric values are the natural log of the original values."
   ]
  },
  {
   "cell_type": "code",
   "execution_count": 91,
   "id": "92d1f75f-091f-47c3-a19f-1ea2a9a70733",
   "metadata": {},
   "outputs": [],
   "source": [
    "# compute log vals\n",
    "df_log = df.copy()\n",
    "df_trans['y'] = df['y'].transform(np.log)\n",
    "df_trans['x'] = df['x'].transform(np.log)"
   ]
  },
  {
   "cell_type": "code",
   "execution_count": 92,
   "id": "fbfa6a64-a84b-4a8d-9a03-fbad380519f7",
   "metadata": {},
   "outputs": [
    {
     "data": {
      "text/plain": [
       "<seaborn.axisgrid.FacetGrid at 0x7f99338c4d00>"
      ]
     },
     "execution_count": 92,
     "metadata": {},
     "output_type": "execute_result"
    },
    {
     "data": {
      "image/png": "[encoded data removed]",
      "text/plain": [
       "<Figure size 500x500 with 1 Axes>"
      ]
     },
     "metadata": {},
     "output_type": "display_data"
    }
   ],
   "source": [
    "sns.relplot(df_log, x='x', y ='y')"
   ]
  },
  {
   "cell_type": "markdown",
   "id": "4d62ddaa-ab4d-4f2b-997a-b8feed18a53e",
   "metadata": {},
   "source": [
    "---"
   ]
  },
  {
   "cell_type": "markdown",
   "id": "f2ebc900-9365-4284-a5bf-dbab314485be",
   "metadata": {},
   "source": [
    "### Applying a custom function to data"
   ]
  },
  {
   "cell_type": "markdown",
   "id": "446f74ff-6440-491a-bd8e-ccd9d3c29437",
   "metadata": {},
   "source": [
    "A great thing about `transform()` (and some other data frame methods) is you can use your own fuctions, not just built in ones.\n",
    "\n",
    "For `transform()`, the only requirement is that your function\n",
    "\n",
    "- be able to take a data frame as input\n",
    "- produce output the same size as the input, or\n",
    "- produce a single value"
   ]
  },
  {
   "cell_type": "markdown",
   "id": "aebf4ee0-6f60-4221-bd2e-f707af98aa06",
   "metadata": {},
   "source": [
    "Here's a function to \"center\" data by subtracting the mean from each value. "
   ]
  },
  {
   "cell_type": "code",
   "execution_count": 95,
   "id": "17212f04-9a90-4d4b-bad4-fa707796bfc0",
   "metadata": {},
   "outputs": [],
   "source": [
    "def center_data(grp):\n",
    "    grp_mean = grp.mean(numeric_only = True)\n",
    "    \n",
    "    grp = (grp - grp_mean)\n",
    "    \n",
    "    return grp"
   ]
  },
  {
   "cell_type": "markdown",
   "id": "4966115f-10c2-4ffa-a003-feddbf622ac4",
   "metadata": {},
   "source": [
    "---"
   ]
  },
  {
   "cell_type": "markdown",
   "id": "425495f2-396f-4df5-ac6e-9094210c0020",
   "metadata": {},
   "source": [
    "In the cell below, use our new function to create a new version of our cancer data frame with the mean removed from each group of data. The `.transform()` method works column-by-column, so you don't need to worry about grouping the data."
   ]
  },
  {
   "cell_type": "code",
   "execution_count": 131,
   "id": "88ddf2bc-b931-4ca5-b849-9c10b044ddb4",
   "metadata": {
    "tags": []
   },
   "outputs": [
    {
     "data": {
      "text/html": [
       "<div>\n",
       "<style scoped>\n",
       "    .dataframe tbody tr th:only-of-type {\n",
       "        vertical-align: middle;\n",
       "    }\n",
       "\n",
       "    .dataframe tbody tr th {\n",
       "        vertical-align: top;\n",
       "    }\n",
       "\n",
       "    .dataframe thead th {\n",
       "        text-align: right;\n",
       "    }\n",
       "</style>\n",
       "<table border=\"1\" class=\"dataframe\">\n",
       "  <thead>\n",
       "    <tr style=\"text-align: right;\">\n",
       "      <th></th>\n",
       "      <th>thick</th>\n",
       "      <th>chrom</th>\n",
       "    </tr>\n",
       "  </thead>\n",
       "  <tbody>\n",
       "    <tr>\n",
       "      <th>0</th>\n",
       "      <td>0.583095</td>\n",
       "      <td>-0.447482</td>\n",
       "    </tr>\n",
       "    <tr>\n",
       "      <th>1</th>\n",
       "      <td>0.583095</td>\n",
       "      <td>-0.447482</td>\n",
       "    </tr>\n",
       "    <tr>\n",
       "      <th>2</th>\n",
       "      <td>-1.416905</td>\n",
       "      <td>-0.447482</td>\n",
       "    </tr>\n",
       "    <tr>\n",
       "      <th>3</th>\n",
       "      <td>1.583095</td>\n",
       "      <td>-0.447482</td>\n",
       "    </tr>\n",
       "    <tr>\n",
       "      <th>4</th>\n",
       "      <td>-0.416905</td>\n",
       "      <td>-0.447482</td>\n",
       "    </tr>\n",
       "    <tr>\n",
       "      <th>...</th>\n",
       "      <td>...</td>\n",
       "      <td>...</td>\n",
       "    </tr>\n",
       "    <tr>\n",
       "      <th>694</th>\n",
       "      <td>-1.416905</td>\n",
       "      <td>-2.447482</td>\n",
       "    </tr>\n",
       "    <tr>\n",
       "      <th>695</th>\n",
       "      <td>-2.416905</td>\n",
       "      <td>-2.447482</td>\n",
       "    </tr>\n",
       "    <tr>\n",
       "      <th>696</th>\n",
       "      <td>0.583095</td>\n",
       "      <td>4.552518</td>\n",
       "    </tr>\n",
       "    <tr>\n",
       "      <th>697</th>\n",
       "      <td>-0.416905</td>\n",
       "      <td>6.552518</td>\n",
       "    </tr>\n",
       "    <tr>\n",
       "      <th>698</th>\n",
       "      <td>-0.416905</td>\n",
       "      <td>6.552518</td>\n",
       "    </tr>\n",
       "  </tbody>\n",
       "</table>\n",
       "<p>699 rows × 2 columns</p>\n",
       "</div>"
      ],
      "text/plain": [
       "        thick     chrom\n",
       "0    0.583095 -0.447482\n",
       "1    0.583095 -0.447482\n",
       "2   -1.416905 -0.447482\n",
       "3    1.583095 -0.447482\n",
       "4   -0.416905 -0.447482\n",
       "..        ...       ...\n",
       "694 -1.416905 -2.447482\n",
       "695 -2.416905 -2.447482\n",
       "696  0.583095  4.552518\n",
       "697 -0.416905  6.552518\n",
       "698 -0.416905  6.552518\n",
       "\n",
       "[699 rows x 2 columns]"
      ]
     },
     "execution_count": 131,
     "metadata": {},
     "output_type": "execute_result"
    }
   ],
   "source": [
    "bcd3 = bcd2[[\"thick\", \"chrom\"]].transform(center_data)\n",
    "bcd3"
   ]
  },
  {
   "cell_type": "markdown",
   "id": "1f41d28a-b3e1-49e4-b7e8-2b72d46a5375",
   "metadata": {},
   "source": [
    "---"
   ]
  },
  {
   "cell_type": "markdown",
   "id": "94e169b9-e965-4bfc-a4f1-9abe63069e74",
   "metadata": {},
   "source": [
    "Confirm this worked by computing the mean for each column of your transformed data."
   ]
  },
  {
   "cell_type": "code",
   "execution_count": 125,
   "id": "b4570829-4c49-4a77-80c6-fc2c55c096bd",
   "metadata": {},
   "outputs": [
    {
     "data": {
      "text/plain": [
       "chrom    0.000000e+00\n",
       "thick    4.071878e-17\n",
       "dtype: float64"
      ]
     },
     "execution_count": 125,
     "metadata": {},
     "output_type": "execute_result"
    }
   ],
   "source": [
    "bcd3.mean(numeric_only = True)"
   ]
  },
  {
   "cell_type": "markdown",
   "id": "f912e204-ffbc-441e-a112-b784a0ee4d03",
   "metadata": {},
   "source": [
    "---"
   ]
  },
  {
   "cell_type": "markdown",
   "id": "847ed963-3beb-49ca-91d4-410553bb2a82",
   "metadata": {},
   "source": [
    "In the cells below, write a function to convert the cancer data to z-scores, and use your new function to convert the numeric columns of our cancer data frame."
   ]
  },
  {
   "cell_type": "code",
   "execution_count": 133,
   "id": "40b4461f-2134-4525-8329-dcb3fd947f21",
   "metadata": {},
   "outputs": [],
   "source": [
    "# my z-score function!\n",
    "def zscore_data(grp):\n",
    "    grp_mean = grp.mean(numeric_only = True)\n",
    "    \n",
    "    grp_sd = grp.std(numeric_only = True)\n",
    "    \n",
    "    grp = ((grp - grp_mean)/(grp_sd))\n",
    " \n",
    "    return grp"
   ]
  },
  {
   "cell_type": "code",
   "execution_count": 134,
   "id": "8cad2e41-4041-4f7c-90cb-f0cd860246f8",
   "metadata": {
    "tags": []
   },
   "outputs": [],
   "source": [
    "# run transform() with my function\n",
    "\n",
    "bcd4 = bcd2[[\"thick\", \"chrom\"]].transform(zscore_data)"
   ]
  },
  {
   "cell_type": "code",
   "execution_count": 135,
   "id": "d5144639-9c8b-4297-9253-f35c243370e3",
   "metadata": {},
   "outputs": [
    {
     "data": {
      "text/html": [
       "<div>\n",
       "<style scoped>\n",
       "    .dataframe tbody tr th:only-of-type {\n",
       "        vertical-align: middle;\n",
       "    }\n",
       "\n",
       "    .dataframe tbody tr th {\n",
       "        vertical-align: top;\n",
       "    }\n",
       "\n",
       "    .dataframe thead th {\n",
       "        text-align: right;\n",
       "    }\n",
       "</style>\n",
       "<table border=\"1\" class=\"dataframe\">\n",
       "  <thead>\n",
       "    <tr style=\"text-align: right;\">\n",
       "      <th></th>\n",
       "      <th>thick</th>\n",
       "      <th>chrom</th>\n",
       "    </tr>\n",
       "  </thead>\n",
       "  <tbody>\n",
       "    <tr>\n",
       "      <th>0</th>\n",
       "      <td>0.206942</td>\n",
       "      <td>-0.183305</td>\n",
       "    </tr>\n",
       "    <tr>\n",
       "      <th>1</th>\n",
       "      <td>0.206942</td>\n",
       "      <td>-0.183305</td>\n",
       "    </tr>\n",
       "    <tr>\n",
       "      <th>2</th>\n",
       "      <td>-0.502864</td>\n",
       "      <td>-0.183305</td>\n",
       "    </tr>\n",
       "    <tr>\n",
       "      <th>3</th>\n",
       "      <td>0.561845</td>\n",
       "      <td>-0.183305</td>\n",
       "    </tr>\n",
       "    <tr>\n",
       "      <th>4</th>\n",
       "      <td>-0.147961</td>\n",
       "      <td>-0.183305</td>\n",
       "    </tr>\n",
       "    <tr>\n",
       "      <th>...</th>\n",
       "      <td>...</td>\n",
       "      <td>...</td>\n",
       "    </tr>\n",
       "    <tr>\n",
       "      <th>694</th>\n",
       "      <td>-0.502864</td>\n",
       "      <td>-1.002577</td>\n",
       "    </tr>\n",
       "    <tr>\n",
       "      <th>695</th>\n",
       "      <td>-0.857766</td>\n",
       "      <td>-1.002577</td>\n",
       "    </tr>\n",
       "    <tr>\n",
       "      <th>696</th>\n",
       "      <td>0.206942</td>\n",
       "      <td>1.864876</td>\n",
       "    </tr>\n",
       "    <tr>\n",
       "      <th>697</th>\n",
       "      <td>-0.147961</td>\n",
       "      <td>2.684148</td>\n",
       "    </tr>\n",
       "    <tr>\n",
       "      <th>698</th>\n",
       "      <td>-0.147961</td>\n",
       "      <td>2.684148</td>\n",
       "    </tr>\n",
       "  </tbody>\n",
       "</table>\n",
       "<p>699 rows × 2 columns</p>\n",
       "</div>"
      ],
      "text/plain": [
       "        thick     chrom\n",
       "0    0.206942 -0.183305\n",
       "1    0.206942 -0.183305\n",
       "2   -0.502864 -0.183305\n",
       "3    0.561845 -0.183305\n",
       "4   -0.147961 -0.183305\n",
       "..        ...       ...\n",
       "694 -0.502864 -1.002577\n",
       "695 -0.857766 -1.002577\n",
       "696  0.206942  1.864876\n",
       "697 -0.147961  2.684148\n",
       "698 -0.147961  2.684148\n",
       "\n",
       "[699 rows x 2 columns]"
      ]
     },
     "execution_count": 135,
     "metadata": {},
     "output_type": "execute_result"
    }
   ],
   "source": [
    "# look at the transformed data\n",
    "bcd4"
   ]
  },
  {
   "cell_type": "code",
   "execution_count": 138,
   "id": "32bfb0ee-7509-42b8-ae5b-a95601620446",
   "metadata": {},
   "outputs": [
    {
     "data": {
      "text/plain": [
       "thick    3.053909e-17\n",
       "chrom    6.134182e-17\n",
       "dtype: float64"
      ]
     },
     "execution_count": 138,
     "metadata": {},
     "output_type": "execute_result"
    }
   ],
   "source": [
    "# see what the means are\n",
    "bcd4.mean(numeric_only = True)"
   ]
  },
  {
   "cell_type": "code",
   "execution_count": 141,
   "id": "efb11f20-7078-4e0f-9a7a-0f73b75ebebf",
   "metadata": {},
   "outputs": [
    {
     "data": {
      "text/html": [
       "<div>\n",
       "<style scoped>\n",
       "    .dataframe tbody tr th:only-of-type {\n",
       "        vertical-align: middle;\n",
       "    }\n",
       "\n",
       "    .dataframe tbody tr th {\n",
       "        vertical-align: top;\n",
       "    }\n",
       "\n",
       "    .dataframe thead th {\n",
       "        text-align: right;\n",
       "    }\n",
       "</style>\n",
       "<table border=\"1\" class=\"dataframe\">\n",
       "  <thead>\n",
       "    <tr style=\"text-align: right;\">\n",
       "      <th></th>\n",
       "      <th>thick</th>\n",
       "      <th>chrom</th>\n",
       "    </tr>\n",
       "  </thead>\n",
       "  <tbody>\n",
       "    <tr>\n",
       "      <th>0</th>\n",
       "      <td>-1.212669</td>\n",
       "      <td>-0.592941</td>\n",
       "    </tr>\n",
       "  </tbody>\n",
       "</table>\n",
       "</div>"
      ],
      "text/plain": [
       "      thick     chrom\n",
       "0 -1.212669 -0.592941"
      ]
     },
     "execution_count": 141,
     "metadata": {},
     "output_type": "execute_result"
    }
   ],
   "source": [
    "# see what the ... are\n",
    "bcd4.mode(numeric_only = True)"
   ]
  },
  {
   "cell_type": "markdown",
   "id": "b90d7899-e279-41df-837e-46ba73081aed",
   "metadata": {},
   "source": [
    "---"
   ]
  },
  {
   "cell_type": "markdown",
   "id": "e3b4804e-cd6d-4040-966f-25d547fab831",
   "metadata": {},
   "source": [
    "#### lambda functions"
   ]
  },
  {
   "cell_type": "markdown",
   "id": "1f599a64-9ea8-497c-90b4-e5763586099e",
   "metadata": {},
   "source": [
    "Lambda functions, also know as anonymous functions, are short, one-off functions that are often used in situation in which ***all*** you need the function for is get passed to a method such as `transform()`"
   ]
  },
  {
   "cell_type": "markdown",
   "id": "1d2229f0-aaff-40f1-99d0-949e329841ad",
   "metadata": {},
   "source": [
    "While the structure of a normal function is:"
   ]
  },
  {
   "cell_type": "code",
   "execution_count": null,
   "id": "a68f4f7d",
   "metadata": {},
   "outputs": [],
   "source": [
    "def func_name(input_arg) :\n",
    "    caluculations\n",
    "    ret_val = more calculations\n",
    "    \n",
    "    return ret_val"
   ]
  },
  {
   "cell_type": "markdown",
   "id": "abdd26c8-a410-41cb-986d-76bf519ba6db",
   "metadata": {},
   "source": [
    "The structure of a lambda function is:"
   ]
  },
  {
   "cell_type": "code",
   "execution_count": null,
   "id": "6ca445dc-77c1-4e96-9cce-2d54b6a75fe8",
   "metadata": {
    "tags": []
   },
   "outputs": [],
   "source": [
    "lambda input_arg : calculation of ret_val"
   ]
  },
  {
   "cell_type": "markdown",
   "id": "598d7137-c085-4248-a350-c46dc23bdcd6",
   "metadata": {},
   "source": [
    "Here's how we would compute z-scores using a lambda function:"
   ]
  },
  {
   "cell_type": "code",
   "execution_count": 145,
   "id": "32636b62-c674-4dba-a870-a5f48f6aa503",
   "metadata": {
    "tags": []
   },
   "outputs": [],
   "source": [
    "trans_data = bcd2[['thick', 'chrom']].transform(\n",
    "    lambda col_vals: (col_vals - col_vals.mean()) / col_vals.std()\n",
    ")"
   ]
  },
  {
   "cell_type": "markdown",
   "id": "03252edd-9f13-4546-b4db-645ad8e56166",
   "metadata": {},
   "source": [
    "Note that the entire lambda function is the one and only input to `transform()`."
   ]
  },
  {
   "cell_type": "markdown",
   "id": "36ce7b60-45f2-4e69-a874-f784c231d657",
   "metadata": {},
   "source": [
    "---"
   ]
  },
  {
   "cell_type": "markdown",
   "id": "7ea481e1-3500-4c1f-9864-75cd4b73a46c",
   "metadata": {},
   "source": [
    "In the cell below, confirm that the lambda function method worked."
   ]
  },
  {
   "cell_type": "code",
   "execution_count": 146,
   "id": "1f9d76dc-fd38-4b29-b4e5-c150334d5e65",
   "metadata": {},
   "outputs": [
    {
     "data": {
      "text/html": [
       "<div>\n",
       "<style scoped>\n",
       "    .dataframe tbody tr th:only-of-type {\n",
       "        vertical-align: middle;\n",
       "    }\n",
       "\n",
       "    .dataframe tbody tr th {\n",
       "        vertical-align: top;\n",
       "    }\n",
       "\n",
       "    .dataframe thead th {\n",
       "        text-align: right;\n",
       "    }\n",
       "</style>\n",
       "<table border=\"1\" class=\"dataframe\">\n",
       "  <thead>\n",
       "    <tr style=\"text-align: right;\">\n",
       "      <th></th>\n",
       "      <th>thick</th>\n",
       "      <th>chrom</th>\n",
       "    </tr>\n",
       "  </thead>\n",
       "  <tbody>\n",
       "    <tr>\n",
       "      <th>0</th>\n",
       "      <td>0.206942</td>\n",
       "      <td>-0.183305</td>\n",
       "    </tr>\n",
       "    <tr>\n",
       "      <th>1</th>\n",
       "      <td>0.206942</td>\n",
       "      <td>-0.183305</td>\n",
       "    </tr>\n",
       "    <tr>\n",
       "      <th>2</th>\n",
       "      <td>-0.502864</td>\n",
       "      <td>-0.183305</td>\n",
       "    </tr>\n",
       "    <tr>\n",
       "      <th>3</th>\n",
       "      <td>0.561845</td>\n",
       "      <td>-0.183305</td>\n",
       "    </tr>\n",
       "    <tr>\n",
       "      <th>4</th>\n",
       "      <td>-0.147961</td>\n",
       "      <td>-0.183305</td>\n",
       "    </tr>\n",
       "    <tr>\n",
       "      <th>...</th>\n",
       "      <td>...</td>\n",
       "      <td>...</td>\n",
       "    </tr>\n",
       "    <tr>\n",
       "      <th>694</th>\n",
       "      <td>-0.502864</td>\n",
       "      <td>-1.002577</td>\n",
       "    </tr>\n",
       "    <tr>\n",
       "      <th>695</th>\n",
       "      <td>-0.857766</td>\n",
       "      <td>-1.002577</td>\n",
       "    </tr>\n",
       "    <tr>\n",
       "      <th>696</th>\n",
       "      <td>0.206942</td>\n",
       "      <td>1.864876</td>\n",
       "    </tr>\n",
       "    <tr>\n",
       "      <th>697</th>\n",
       "      <td>-0.147961</td>\n",
       "      <td>2.684148</td>\n",
       "    </tr>\n",
       "    <tr>\n",
       "      <th>698</th>\n",
       "      <td>-0.147961</td>\n",
       "      <td>2.684148</td>\n",
       "    </tr>\n",
       "  </tbody>\n",
       "</table>\n",
       "<p>699 rows × 2 columns</p>\n",
       "</div>"
      ],
      "text/plain": [
       "        thick     chrom\n",
       "0    0.206942 -0.183305\n",
       "1    0.206942 -0.183305\n",
       "2   -0.502864 -0.183305\n",
       "3    0.561845 -0.183305\n",
       "4   -0.147961 -0.183305\n",
       "..        ...       ...\n",
       "694 -0.502864 -1.002577\n",
       "695 -0.857766 -1.002577\n",
       "696  0.206942  1.864876\n",
       "697 -0.147961  2.684148\n",
       "698 -0.147961  2.684148\n",
       "\n",
       "[699 rows x 2 columns]"
      ]
     },
     "execution_count": 146,
     "metadata": {},
     "output_type": "execute_result"
    }
   ],
   "source": [
    "trans_data"
   ]
  },
  {
   "cell_type": "markdown",
   "id": "2b185449-ea8b-444d-90f2-7c69ba666245",
   "metadata": {},
   "source": [
    "---"
   ]
  },
  {
   "cell_type": "markdown",
   "id": "6d98a080-f2ab-4e84-a646-70000cbf96ce",
   "metadata": {},
   "source": [
    "For very simple transformations, using a lambda function makes a lot of sense. For more complicated transformations, we'd probably want to just create a regular function, or the code could become unreadable. \n",
    "\n",
    "How complicated is too complicated? That's up to you, but anything more complicated than applying an offset and a scale factor (like computing a z-score), probably deserves its own function."
   ]
  },
  {
   "cell_type": "markdown",
   "id": "154ccf8e-318b-42e9-be07-8c54e5ec0190",
   "metadata": {},
   "source": [
    "---"
   ]
  },
  {
   "cell_type": "markdown",
   "id": "5ebbc428-0bd4-4907-bb9c-8d5b549f4131",
   "metadata": {},
   "source": [
    "In the cell below, transform the numeric cancer data so the values range from 0 to 1 using a lambda function. You can assume that the maximum value is 10 and the minimum value is 1."
   ]
  },
  {
   "cell_type": "code",
   "execution_count": 195,
   "id": "878d3db6",
   "metadata": {
    "tags": []
   },
   "outputs": [],
   "source": [
    "zero_one = bcd2[['thick', 'chrom']].transform(\n",
    "    lambda col_vals: (col_vals - col_vals.min())/(col_vals.max() - col_vals.min()))"
   ]
  },
  {
   "cell_type": "code",
   "execution_count": 196,
   "id": "e78c08a7",
   "metadata": {},
   "outputs": [
    {
     "data": {
      "text/html": [
       "<div>\n",
       "<style scoped>\n",
       "    .dataframe tbody tr th:only-of-type {\n",
       "        vertical-align: middle;\n",
       "    }\n",
       "\n",
       "    .dataframe tbody tr th {\n",
       "        vertical-align: top;\n",
       "    }\n",
       "\n",
       "    .dataframe thead th {\n",
       "        text-align: right;\n",
       "    }\n",
       "</style>\n",
       "<table border=\"1\" class=\"dataframe\">\n",
       "  <thead>\n",
       "    <tr style=\"text-align: right;\">\n",
       "      <th></th>\n",
       "      <th>thick</th>\n",
       "      <th>chrom</th>\n",
       "    </tr>\n",
       "  </thead>\n",
       "  <tbody>\n",
       "    <tr>\n",
       "      <th>0</th>\n",
       "      <td>0.444444</td>\n",
       "      <td>0.222222</td>\n",
       "    </tr>\n",
       "    <tr>\n",
       "      <th>1</th>\n",
       "      <td>0.444444</td>\n",
       "      <td>0.222222</td>\n",
       "    </tr>\n",
       "    <tr>\n",
       "      <th>2</th>\n",
       "      <td>0.222222</td>\n",
       "      <td>0.222222</td>\n",
       "    </tr>\n",
       "    <tr>\n",
       "      <th>3</th>\n",
       "      <td>0.555556</td>\n",
       "      <td>0.222222</td>\n",
       "    </tr>\n",
       "    <tr>\n",
       "      <th>4</th>\n",
       "      <td>0.333333</td>\n",
       "      <td>0.222222</td>\n",
       "    </tr>\n",
       "    <tr>\n",
       "      <th>...</th>\n",
       "      <td>...</td>\n",
       "      <td>...</td>\n",
       "    </tr>\n",
       "    <tr>\n",
       "      <th>694</th>\n",
       "      <td>0.222222</td>\n",
       "      <td>0.000000</td>\n",
       "    </tr>\n",
       "    <tr>\n",
       "      <th>695</th>\n",
       "      <td>0.111111</td>\n",
       "      <td>0.000000</td>\n",
       "    </tr>\n",
       "    <tr>\n",
       "      <th>696</th>\n",
       "      <td>0.444444</td>\n",
       "      <td>0.777778</td>\n",
       "    </tr>\n",
       "    <tr>\n",
       "      <th>697</th>\n",
       "      <td>0.333333</td>\n",
       "      <td>1.000000</td>\n",
       "    </tr>\n",
       "    <tr>\n",
       "      <th>698</th>\n",
       "      <td>0.333333</td>\n",
       "      <td>1.000000</td>\n",
       "    </tr>\n",
       "  </tbody>\n",
       "</table>\n",
       "<p>699 rows × 2 columns</p>\n",
       "</div>"
      ],
      "text/plain": [
       "        thick     chrom\n",
       "0    0.444444  0.222222\n",
       "1    0.444444  0.222222\n",
       "2    0.222222  0.222222\n",
       "3    0.555556  0.222222\n",
       "4    0.333333  0.222222\n",
       "..        ...       ...\n",
       "694  0.222222  0.000000\n",
       "695  0.111111  0.000000\n",
       "696  0.444444  0.777778\n",
       "697  0.333333  1.000000\n",
       "698  0.333333  1.000000\n",
       "\n",
       "[699 rows x 2 columns]"
      ]
     },
     "execution_count": 196,
     "metadata": {},
     "output_type": "execute_result"
    }
   ],
   "source": [
    "zero_one"
   ]
  },
  {
   "cell_type": "markdown",
   "id": "03145cfb-8591-4d9b-9eb3-583d2bb39075",
   "metadata": {},
   "source": [
    "---"
   ]
  },
  {
   "cell_type": "markdown",
   "id": "a7d5ac6b-4fd6-49d7-b938-6adefd2fd4e0",
   "metadata": {},
   "source": [
    "In the cell below, us a regular function to rescale the values from 0 to 1. In this case, however, do not assume you know the minimum and maximum values ahead of time."
   ]
  },
  {
   "cell_type": "code",
   "execution_count": 207,
   "id": "5777b871-6f60-403d-affc-2a35a72a256d",
   "metadata": {},
   "outputs": [],
   "source": [
    "def zero_one_old(bcd2):\n",
    "    \n",
    "    bcd2 = (bcd2 - bcd2.min())/(bcd2.max() - bcd2.min())\n",
    " \n",
    "    return bcd2"
   ]
  },
  {
   "cell_type": "code",
   "execution_count": 208,
   "id": "5c37d1e1",
   "metadata": {},
   "outputs": [
    {
     "data": {
      "text/html": [
       "<div>\n",
       "<style scoped>\n",
       "    .dataframe tbody tr th:only-of-type {\n",
       "        vertical-align: middle;\n",
       "    }\n",
       "\n",
       "    .dataframe tbody tr th {\n",
       "        vertical-align: top;\n",
       "    }\n",
       "\n",
       "    .dataframe thead th {\n",
       "        text-align: right;\n",
       "    }\n",
       "</style>\n",
       "<table border=\"1\" class=\"dataframe\">\n",
       "  <thead>\n",
       "    <tr style=\"text-align: right;\">\n",
       "      <th></th>\n",
       "      <th>thick</th>\n",
       "      <th>chrom</th>\n",
       "    </tr>\n",
       "  </thead>\n",
       "  <tbody>\n",
       "    <tr>\n",
       "      <th>0</th>\n",
       "      <td>0.444444</td>\n",
       "      <td>0.222222</td>\n",
       "    </tr>\n",
       "    <tr>\n",
       "      <th>1</th>\n",
       "      <td>0.444444</td>\n",
       "      <td>0.222222</td>\n",
       "    </tr>\n",
       "    <tr>\n",
       "      <th>2</th>\n",
       "      <td>0.222222</td>\n",
       "      <td>0.222222</td>\n",
       "    </tr>\n",
       "    <tr>\n",
       "      <th>3</th>\n",
       "      <td>0.555556</td>\n",
       "      <td>0.222222</td>\n",
       "    </tr>\n",
       "    <tr>\n",
       "      <th>4</th>\n",
       "      <td>0.333333</td>\n",
       "      <td>0.222222</td>\n",
       "    </tr>\n",
       "    <tr>\n",
       "      <th>...</th>\n",
       "      <td>...</td>\n",
       "      <td>...</td>\n",
       "    </tr>\n",
       "    <tr>\n",
       "      <th>694</th>\n",
       "      <td>0.222222</td>\n",
       "      <td>0.000000</td>\n",
       "    </tr>\n",
       "    <tr>\n",
       "      <th>695</th>\n",
       "      <td>0.111111</td>\n",
       "      <td>0.000000</td>\n",
       "    </tr>\n",
       "    <tr>\n",
       "      <th>696</th>\n",
       "      <td>0.444444</td>\n",
       "      <td>0.777778</td>\n",
       "    </tr>\n",
       "    <tr>\n",
       "      <th>697</th>\n",
       "      <td>0.333333</td>\n",
       "      <td>1.000000</td>\n",
       "    </tr>\n",
       "    <tr>\n",
       "      <th>698</th>\n",
       "      <td>0.333333</td>\n",
       "      <td>1.000000</td>\n",
       "    </tr>\n",
       "  </tbody>\n",
       "</table>\n",
       "<p>699 rows × 2 columns</p>\n",
       "</div>"
      ],
      "text/plain": [
       "        thick     chrom\n",
       "0    0.444444  0.222222\n",
       "1    0.444444  0.222222\n",
       "2    0.222222  0.222222\n",
       "3    0.555556  0.222222\n",
       "4    0.333333  0.222222\n",
       "..        ...       ...\n",
       "694  0.222222  0.000000\n",
       "695  0.111111  0.000000\n",
       "696  0.444444  0.777778\n",
       "697  0.333333  1.000000\n",
       "698  0.333333  1.000000\n",
       "\n",
       "[699 rows x 2 columns]"
      ]
     },
     "execution_count": 208,
     "metadata": {},
     "output_type": "execute_result"
    }
   ],
   "source": [
    "zero_one_old_2 = bcd2[['thick', 'chrom']].transform(zero_one_old)\n",
    "\n",
    "zero_one_old_2 "
   ]
  },
  {
   "cell_type": "markdown",
   "id": "e352aebe-a920-4cbe-8aac-1bbed3b033ea",
   "metadata": {},
   "source": [
    "---"
   ]
  }
 ],
 "metadata": {
  "kernelspec": {
   "display_name": "Python 3 (ipykernel)",
   "language": "python",
   "name": "python3"
  },
  "language_info": {
   "codemirror_mode": {
    "name": "ipython",
    "version": 3
   },
   "file_extension": ".py",
   "mimetype": "text/x-python",
   "name": "python",
   "nbconvert_exporter": "python",
   "pygments_lexer": "ipython3",
   "version": "3.9.16"
  }
 },
 "nbformat": 4,
 "nbformat_minor": 5
}
